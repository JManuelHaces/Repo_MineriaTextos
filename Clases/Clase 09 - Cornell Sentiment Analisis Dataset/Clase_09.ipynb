{
 "cells": [
  {
   "cell_type": "markdown",
   "metadata": {
    "pycharm": {
     "name": "#%% md\n"
    }
   },
   "source": [
    "# Cornell Sentiments Analisis Dataset"
   ]
  },
  {
   "cell_type": "code",
   "execution_count": 1,
   "metadata": {
    "pycharm": {
     "name": "#%%\n"
    }
   },
   "outputs": [],
   "source": [
    "# Importamos las librerías\n",
    "import re\n",
    "import nltk\n",
    "import pickle\n",
    "import numpy as np\n",
    "from nltk.corpus import stopwords\n",
    "from sklearn.datasets import load_files"
   ]
  },
  {
   "cell_type": "code",
   "execution_count": 2,
   "metadata": {
    "pycharm": {
     "name": "#%%\n"
    }
   },
   "outputs": [
    {
     "name": "stderr",
     "output_type": "stream",
     "text": [
      "[nltk_data] Downloading package stopwords to\n",
      "[nltk_data]     C:\\Users\\JMANU\\AppData\\Roaming\\nltk_data...\n",
      "[nltk_data]   Package stopwords is already up-to-date!\n"
     ]
    },
    {
     "data": {
      "text/plain": [
       "True"
      ]
     },
     "execution_count": 2,
     "metadata": {},
     "output_type": "execute_result"
    }
   ],
   "source": [
    "# Manera de actualizar el corpus que quiera, en este caso 'stopwords'\n",
    "nltk.download('stopwords')"
   ]
  },
  {
   "cell_type": "code",
   "execution_count": 3,
   "metadata": {
    "pycharm": {
     "name": "#%%\n"
    }
   },
   "outputs": [],
   "source": [
    "# Cargar nuestros archivos para generar el Corpus\n",
    "reviews = load_files(r'./txt_sentoken/')"
   ]
  },
  {
   "cell_type": "code",
   "execution_count": 4,
   "metadata": {
    "pycharm": {
     "name": "#%%\n"
    }
   },
   "outputs": [],
   "source": [
    "# Extralendo los datos y los targets\n",
    "textos, targets = reviews.data, reviews.target"
   ]
  },
  {
   "cell_type": "markdown",
   "metadata": {
    "pycharm": {
     "name": "#%% md\n"
    }
   },
   "source": [
    "_____\n",
    "## NOTAS:\n",
    "- En caso de ser necesario, es decir tener archivos muy grandes. Es mucho más eficiente guardar los archivos como binarios y luego cargarlos"
   ]
  },
  {
   "cell_type": "code",
   "execution_count": 5,
   "metadata": {
    "pycharm": {
     "name": "#%%\n"
    }
   },
   "outputs": [],
   "source": [
    "# Guardamos como archivos binarios con pickle (son mucho más eficientes)\n",
    "with open('textos.pickle', 'wb') as f:\n",
    "    pickle.dump(textos, f)\n",
    "\n",
    "with open('targets.pickle', 'wb') as f:\n",
    "    pickle.dump(targets, f)"
   ]
  },
  {
   "cell_type": "code",
   "execution_count": 6,
   "metadata": {
    "pycharm": {
     "name": "#%%\n"
    }
   },
   "outputs": [],
   "source": [
    "# Abriendo los archivos binarios\n",
    "with open('textos.pickle', 'rb') as f:\n",
    "    new_textos = pickle.load(f)\n",
    "\n",
    "with open('targets.pickle', 'rb') as f:\n",
    "    new_targets = pickle.load(f)"
   ]
  },
  {
   "cell_type": "markdown",
   "metadata": {
    "pycharm": {
     "name": "#%% md\n"
    }
   },
   "source": [
    "________________"
   ]
  },
  {
   "cell_type": "code",
   "execution_count": 7,
   "metadata": {
    "pycharm": {
     "name": "#%%\n"
    }
   },
   "outputs": [],
   "source": [
    "# Vamos a cosntruir el corpus para poder entrenar nuestro modelo\n",
    "corpus = []\n",
    "\n",
    "for i in range(0, 2000):\n",
    "    # Quitando todos los carácteres que no sean letras\n",
    "    review = re.sub(r'[^\\w\\s]','',str(textos[i]))\n",
    "\n",
    "    # Agregando el texto a nuestra lista corpus\n",
    "    corpus.append(review)"
   ]
  },
  {
   "cell_type": "markdown",
   "metadata": {
    "pycharm": {
     "name": "#%% md\n"
    }
   },
   "source": [
    "## Usar Sklearn\n",
    "- Se usará SkLearn para convertir los textos en vectores que serán utilizados para el entrenamiento del modelo"
   ]
  },
  {
   "cell_type": "code",
   "execution_count": 8,
   "metadata": {
    "pycharm": {
     "name": "#%%\n"
    }
   },
   "outputs": [],
   "source": [
    "from sklearn.feature_extraction.text import CountVectorizer\n",
    "\n",
    "# Creando el Objeto vectorizador con los parámetros que le damos\n",
    "vectorizer = CountVectorizer(max_features=2000, # Top 2000 de palabras\n",
    "                             min_df=3, # Si una palabra sale en menos de 3 archivos no la pongas (Poco común)\n",
    "                             max_df=0.6, # Si una palabra salen en más del 60% de los archivos no la pongas (Muy común)\n",
    "                             stop_words=stopwords.words('english')) # Quitando todas los stopwords en inglés"
   ]
  },
  {
   "cell_type": "code",
   "execution_count": 9,
   "metadata": {
    "pycharm": {
     "name": "#%%\n"
    }
   },
   "outputs": [],
   "source": [
    "# Ejecutando el objeto vectorizador\n",
    "# Creando el BOW (Bag Of Words) con el vectorizador\n",
    "my_bow = vectorizer.fit_transform(corpus).toarray()"
   ]
  },
  {
   "cell_type": "code",
   "execution_count": 10,
   "metadata": {
    "pycharm": {
     "name": "#%%\n"
    }
   },
   "outputs": [],
   "source": [
    "# Vamos a transformar el BOW en un TF-IDF utilizando 'SkLearn'\n",
    "from sklearn.feature_extraction.text import TfidfTransformer\n",
    "\n",
    "# Creando el Objeto para TF-IDF\n",
    "transformer = TfidfTransformer()\n",
    "transformer = transformer.fit(my_bow)\n",
    "\n",
    "# Ejecutando la transformación\n",
    "my_tfidf = transformer.fit_transform(my_bow).toarray()"
   ]
  },
  {
   "cell_type": "markdown",
   "metadata": {
    "pycharm": {
     "name": "#%% md\n"
    }
   },
   "source": [
    "## Modelando"
   ]
  },
  {
   "cell_type": "code",
   "execution_count": 11,
   "metadata": {
    "pycharm": {
     "name": "#%%\n"
    }
   },
   "outputs": [],
   "source": [
    "from sklearn.model_selection import train_test_split\n",
    "\n",
    "# Diviendo el Dataset en Train y Test\n",
    "X_train, X_test, y_train, y_test = train_test_split(my_tfidf, targets, test_size=0.2, random_state=0)"
   ]
  },
  {
   "cell_type": "code",
   "execution_count": 12,
   "metadata": {
    "pycharm": {
     "name": "#%%\n"
    }
   },
   "outputs": [
    {
     "data": {
      "text/plain": [
       "LogisticRegression()"
      ]
     },
     "execution_count": 12,
     "metadata": {},
     "output_type": "execute_result"
    }
   ],
   "source": [
    "from sklearn.linear_model import LogisticRegression\n",
    "\n",
    "# Entrenamos un modelo de Regresión Logística\n",
    "model = LogisticRegression()\n",
    "model.fit(X_train, y_train)"
   ]
  },
  {
   "cell_type": "code",
   "execution_count": 13,
   "metadata": {},
   "outputs": [],
   "source": [
    "# Guardando el modelo\n",
    "with open('classifier.pickle', 'wb') as f:\n",
    "    pickle.dump(model, f)"
   ]
  },
  {
   "cell_type": "markdown",
   "metadata": {
    "pycharm": {
     "name": "#%% md\n"
    }
   },
   "source": [
    "## Calificando el Modelo"
   ]
  },
  {
   "cell_type": "code",
   "execution_count": 14,
   "metadata": {
    "pycharm": {
     "name": "#%%\n"
    }
   },
   "outputs": [
    {
     "data": {
      "text/plain": [
       "array([[173,  35],\n",
       "       [ 22, 170]], dtype=int64)"
      ]
     },
     "execution_count": 14,
     "metadata": {},
     "output_type": "execute_result"
    }
   ],
   "source": [
    "# Probando el Modelo\n",
    "# Lista con los sentimientos predichos\n",
    "y_pred = model.predict(X_test)\n",
    "\n",
    "# Evaluamos qué tan bueno es nuetro modelo con una matriz de confusión\n",
    "from sklearn.metrics import confusion_matrix\n",
    "matrix = confusion_matrix(y_test, y_pred)\n",
    "matrix"
   ]
  },
  {
   "cell_type": "code",
   "execution_count": 15,
   "metadata": {
    "pycharm": {
     "name": "#%%\n"
    }
   },
   "outputs": [
    {
     "data": {
      "text/plain": [
       "0.8575"
      ]
     },
     "execution_count": 15,
     "metadata": {},
     "output_type": "execute_result"
    }
   ],
   "source": [
    "# Accuracy de nuestro modelo (TP+TN/4)\n",
    "model.score(X_test, y_test)"
   ]
  },
  {
   "cell_type": "markdown",
   "metadata": {
    "pycharm": {
     "name": "#%% md\n"
    }
   },
   "source": [
    "## Usando el Modelo"
   ]
  },
  {
   "cell_type": "code",
   "execution_count": 16,
   "metadata": {
    "pycharm": {
     "name": "#%%\n"
    }
   },
   "outputs": [
    {
     "name": "stdout",
     "output_type": "stream",
     "text": [
      "[1]\n"
     ]
    }
   ],
   "source": [
    "# Probando el modelo\n",
    "sample_text = ['hot dogs is trash']\n",
    "\n",
    "from sklearn.feature_extraction.text import TfidfVectorizer\n",
    "\n",
    "# Vectorizando y Haciendo TD-IDF\n",
    "tf_vectorizer = TfidfVectorizer(max_features=2000,\n",
    "                                min_df=3,\n",
    "                                max_df=0.6,\n",
    "                                stop_words=stopwords.words('english'))\n",
    "\n",
    "# Fiteando con el corpus\n",
    "new_tf = tf_vectorizer.fit_transform(corpus).toarray()\n",
    "\n",
    "# Transformamos el Textos sample\n",
    "sample = tf_vectorizer.transform(sample_text).toarray()\n",
    "\n",
    "# Prediciendo con el modelo si es positivo o negativo (1=Positivo, 0=Negativo)\n",
    "print(model.predict(sample))"
   ]
  },
  {
   "cell_type": "markdown",
   "metadata": {
    "pycharm": {
     "name": "#%% md\n"
    }
   },
   "source": [
    "## Exportando el Modelo"
   ]
  },
  {
   "cell_type": "code",
   "execution_count": 20,
   "metadata": {
    "pycharm": {
     "name": "#%%\n"
    }
   },
   "outputs": [],
   "source": [
    "# Guardando el modelo\n",
    "with open('tf_idf_model.pickle', 'wb') as f:\n",
    "    pickle.dump(tf_vectorizer, f)"
   ]
  },
  {
   "cell_type": "code",
   "execution_count": null,
   "metadata": {},
   "outputs": [],
   "source": []
  }
 ],
 "metadata": {
  "kernelspec": {
   "display_name": "Python 3 (ipykernel)",
   "language": "python",
   "name": "python3"
  },
  "language_info": {
   "codemirror_mode": {
    "name": "ipython",
    "version": 3
   },
   "file_extension": ".py",
   "mimetype": "text/x-python",
   "name": "python",
   "nbconvert_exporter": "python",
   "pygments_lexer": "ipython3",
   "version": "3.9.12"
  }
 },
 "nbformat": 4,
 "nbformat_minor": 1
}
