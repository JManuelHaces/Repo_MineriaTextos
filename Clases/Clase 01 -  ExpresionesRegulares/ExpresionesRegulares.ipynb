{
 "cells": [
  {
   "cell_type": "code",
   "execution_count": null,
   "outputs": [],
   "source": [
    "import re\n",
    "import nltk"
   ],
   "metadata": {
    "collapsed": false,
    "pycharm": {
     "name": "#%%\n"
    }
   }
  },
  {
   "cell_type": "markdown",
   "source": [
    "## Pregunta 1:\n",
    "- Verifique que un string contiene solamente caracteres permitidos. En este caso solamente letras\n",
    "latinas mayúsculas y minúsculas. (por el momento vamos a dejar de lado los caracteres\n",
    "acentuados y las tildes)"
   ],
   "metadata": {
    "collapsed": false,
    "pycharm": {
     "name": "#%% md\n"
    }
   }
  },
  {
   "cell_type": "code",
   "execution_count": 28,
   "outputs": [
    {
     "name": "stdout",
     "output_type": "stream",
     "text": [
      "<re.Match object; span=(0, 10), match='Hola_Mundo'>\n",
      "['Hola', 'Mundo']\n"
     ]
    }
   ],
   "source": [
    "# Expresión regular que me dé un match con letras, dígitos y/o guion bajo\n",
    "print(re.search('\\w+', 'Hola_Mundo'))\n",
    "# Expresión regular que me arroja las palabras que cumplen la condición\n",
    "print(re.findall('\\w+', 'Hola Mundo'))"
   ],
   "metadata": {
    "collapsed": false,
    "pycharm": {
     "name": "#%%\n"
    }
   }
  },
  {
   "cell_type": "code",
   "execution_count": 29,
   "outputs": [
    {
     "name": "stdout",
     "output_type": "stream",
     "text": [
      "<re.Match object; span=(3, 4), match='@'>\n"
     ]
    }
   ],
   "source": [
    "# Expresión regular que me dé un match que NO tenga letras, gigitos y/o guion bajo\n",
    "print(re.search('\\W+', 'Hol@_Mundo'))\n",
    "# Expresión regular que me arroja las palabras/carácteres que lo cumplan\n",
    "print(re.findall('\\W', 'Hol@_Mundo'))"
   ],
   "metadata": {
    "collapsed": false,
    "pycharm": {
     "name": "#%%\n"
    }
   }
  },
  {
   "cell_type": "markdown",
   "source": [
    "## Pregunta 2:\n",
    "- Encuentre un string que contenga una a seguida de cero o más “0” (ceros)"
   ],
   "metadata": {
    "collapsed": false,
    "pycharm": {
     "name": "#%% md\n"
    }
   }
  },
  {
   "cell_type": "code",
   "execution_count": 34,
   "outputs": [
    {
     "name": "stdout",
     "output_type": "stream",
     "text": [
      "<re.Match object; span=(0, 2), match='a0'>\n",
      "None\n"
     ]
    }
   ],
   "source": [
    "print(re.search('^a0+', 'a01231231'))\n",
    "print(re.search('^a0+', 'a1a2a3a4a5a6a034 34a'))"
   ],
   "metadata": {
    "collapsed": false,
    "pycharm": {
     "name": "#%%\n"
    }
   }
  },
  {
   "cell_type": "code",
   "execution_count": 36,
   "outputs": [
    {
     "name": "stdout",
     "output_type": "stream",
     "text": [
      "['a0']\n",
      "[]\n"
     ]
    }
   ],
   "source": [
    "print(re.findall('^a0+', 'a01231231'))\n",
    "print(re.findall('^a0+', 'a1a2a3a4a5a6a034 34a'))"
   ],
   "metadata": {
    "collapsed": false,
    "pycharm": {
     "name": "#%%\n"
    }
   }
  },
  {
   "cell_type": "markdown",
   "source": [
    "## Pregunta 3:\n",
    "- Encuentre un string que consista en secuencias de letras minúsculas separadas por un\n",
    "guión o un guión bajo"
   ],
   "metadata": {
    "collapsed": false,
    "pycharm": {
     "name": "#%% md\n"
    }
   }
  },
  {
   "cell_type": "code",
   "execution_count": 45,
   "outputs": [
    {
     "name": "stdout",
     "output_type": "stream",
     "text": [
      "<re.Match object; span=(0, 4), match='aei_'>\n",
      "['aei_', 'bcd_', 'a_', 'e_', 'i_', 'o_', 'b_', 'c_', 'd_', 'a_']\n"
     ]
    }
   ],
   "source": [
    "print(re.search('[a-z]+\\_|-[a-z]+', 'aei_bcd_iou a_e_i_o_u b_c_d_F a_ccccccccccccc'))\n",
    "print(re.findall('[a-z]+\\_|-[a-z]+', 'aei_bcd_iou a_e_i_o_u b_c_d_F a_ccccccccccccc'))"
   ],
   "metadata": {
    "collapsed": false,
    "pycharm": {
     "name": "#%%\n"
    }
   }
  },
  {
   "cell_type": "markdown",
   "source": [
    "## Pregunta 4:\n",
    "- Encuentre si el string comienza con una palabra"
   ],
   "metadata": {
    "collapsed": false,
    "pycharm": {
     "name": "#%% md\n"
    }
   }
  },
  {
   "cell_type": "code",
   "execution_count": 51,
   "outputs": [
    {
     "name": "stdout",
     "output_type": "stream",
     "text": [
      "<re.Match object; span=(0, 4), match='Hola'>\n",
      "[]\n"
     ]
    }
   ],
   "source": [
    "print(re.search('^(Hola)+', 'Hola como estas'))\n",
    "print(re.findall('^(HOLA)+', 'Hola como estas'))"
   ],
   "metadata": {
    "collapsed": false,
    "pycharm": {
     "name": "#%%\n"
    }
   }
  },
  {
   "cell_type": "markdown",
   "source": [
    "## Pregunta 5:\n",
    "- Determine si el string es una dirección IP4 bien formada"
   ],
   "metadata": {
    "collapsed": false,
    "pycharm": {
     "name": "#%% md\n"
    }
   }
  },
  {
   "cell_type": "code",
   "execution_count": 69,
   "outputs": [
    {
     "name": "stdout",
     "output_type": "stream",
     "text": [
      "None\n"
     ]
    }
   ],
   "source": [
    "print(re.search('[48 - 50][48 - 53][50 - 57]\\.[48 - 50][48 - 53][50 - 57]\\.[48 - 50][48 - 53][50 - 57]\\.[48 - 50][48 - 53][50 - 57]', '192.168.001.001'))\n"
   ],
   "metadata": {
    "collapsed": false,
    "pycharm": {
     "name": "#%%\n"
    }
   }
  },
  {
   "cell_type": "markdown",
   "source": [
    "## Pregunta 5:\n",
    "- Encuentra números de 1 a 3 dígitos en un string."
   ],
   "metadata": {
    "collapsed": false,
    "pycharm": {
     "name": "#%% md\n"
    }
   }
  },
  {
   "cell_type": "code",
   "execution_count": 114,
   "outputs": [
    {
     "name": "stdout",
     "output_type": "stream",
     "text": [
      "<re.Match object; span=(0, 3), match='192'>\n",
      "['122', '133']\n"
     ]
    }
   ],
   "source": [
    "print(re.search('[0-9][0-9][0-9]', '192'))\n",
    "print(re.findall('[0-9][0-9][0-9]', '122133'))"
   ],
   "metadata": {
    "collapsed": false,
    "pycharm": {
     "name": "#%%\n"
    }
   }
  },
  {
   "cell_type": "markdown",
   "source": [
    "## Pregunta 6:\n",
    "- Encuentre si un string contiene una o varias de las palabras clave"
   ],
   "metadata": {
    "collapsed": false,
    "pycharm": {
     "name": "#%% md\n"
    }
   }
  },
  {
   "cell_type": "code",
   "execution_count": 130,
   "outputs": [
    {
     "name": "stdout",
     "output_type": "stream",
     "text": [
      "[('Fox', ''), ('', 'Dog')]\n"
     ]
    }
   ],
   "source": [
    "print(re.findall('(Fox)|(Dog)', 'Fox hola Dog dog fox'))"
   ],
   "metadata": {
    "collapsed": false,
    "pycharm": {
     "name": "#%%\n"
    }
   }
  },
  {
   "cell_type": "markdown",
   "source": [
    "## Pregunta 7:\n",
    "- Convierta una fecha de la forma “dd-mm-yyyy” a la forma “yyyy-mm-dd”"
   ],
   "metadata": {
    "collapsed": false,
    "pycharm": {
     "name": "#%% md\n"
    }
   }
  },
  {
   "cell_type": "code",
   "execution_count": 170,
   "outputs": [
    {
     "data": {
      "text/plain": "'2002-02-15'"
     },
     "execution_count": 170,
     "metadata": {},
     "output_type": "execute_result"
    }
   ],
   "source": [
    "fecha = '15-02-2002'\n",
    "\n",
    "dia = re.search('^[0-9][0-9]', fecha)\n",
    "dia = dia[0]\n",
    "\n",
    "mes = re.search('\\-[0-9][1-9]\\-', fecha)\n",
    "mes = mes[0]\n",
    "mes = mes.replace('-', '')\n",
    "\n",
    "año = re.search('[0-9][0-9][0-9][0-9]', fecha)\n",
    "año = año[0]\n",
    "\n",
    "fecha2 = str(f'{año}-{mes}-{dia}')\n",
    "fecha2"
   ],
   "metadata": {
    "collapsed": false,
    "pycharm": {
     "name": "#%%\n"
    }
   }
  },
  {
   "cell_type": "markdown",
   "source": [
    "## Pregunta 8:\n",
    "- Cambie nombres de calles por su abreviatura. Por ejemplo “Calle” por “C.”, “Avenida” por\n",
    "“Av.”, “Boulevard” por “Blvd.”"
   ],
   "metadata": {
    "collapsed": false,
    "pycharm": {
     "name": "#%% md\n"
    }
   }
  },
  {
   "cell_type": "code",
   "execution_count": null,
   "outputs": [],
   "source": [],
   "metadata": {
    "collapsed": false,
    "pycharm": {
     "name": "#%%\n"
    }
   }
  }
 ],
 "metadata": {
  "kernelspec": {
   "display_name": "Python 3",
   "language": "python",
   "name": "python3"
  },
  "language_info": {
   "codemirror_mode": {
    "name": "ipython",
    "version": 2
   },
   "file_extension": ".py",
   "mimetype": "text/x-python",
   "name": "python",
   "nbconvert_exporter": "python",
   "pygments_lexer": "ipython2",
   "version": "2.7.6"
  }
 },
 "nbformat": 4,
 "nbformat_minor": 0
}