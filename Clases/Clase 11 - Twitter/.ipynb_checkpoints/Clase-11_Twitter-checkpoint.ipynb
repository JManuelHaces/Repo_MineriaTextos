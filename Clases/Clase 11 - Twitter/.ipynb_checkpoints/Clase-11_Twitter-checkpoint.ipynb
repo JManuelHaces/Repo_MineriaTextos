{
 "cells": [
  {
   "cell_type": "markdown",
   "metadata": {},
   "source": [
    "# Obteniendo Tweets\n",
    "**José Manuel Haces López - 734759**\n",
    "\n",
    "20/09/2022"
   ]
  },
  {
   "cell_type": "code",
   "execution_count": 1,
   "metadata": {
    "pycharm": {
     "name": "#%%\n"
    }
   },
   "outputs": [],
   "source": [
    "# Librerías\n",
    "import re\n",
    "import pickle\n",
    "import tweepy\n",
    "\n",
    "from tweepy import OAuthHandler"
   ]
  },
  {
   "cell_type": "markdown",
   "metadata": {},
   "source": [
    "## 1. Generando la API"
   ]
  },
  {
   "cell_type": "code",
   "execution_count": 2,
   "metadata": {},
   "outputs": [],
   "source": [
    "# Creando variables con las claves de acceso\n",
    "consumer_key = 'YZXbvH8szif1vNm6uLRtaGK3G'\n",
    "consumer_secret = '9slCLF44bJSLGoLPpRlXfCaf49MRbOqBbUaT3SjweLIr8nfhiB'\n",
    "\n",
    "# Crear el objeto para manejar el accesos a la API twitter\n",
    "auth = OAuthHandler(consumer_key, consumer_secret)\n",
    "\n",
    "# Definir algunos argumentos para buscar tweets (tiene que ser una lista con uno o más argumentos)\n",
    "# En este caso se buscará sobre 'earthquake'\n",
    "args = ['earthquake']\n",
    "\n",
    "# Abrimos el acceso a la API de twitter\n",
    "api = tweepy.API(auth, timeout=10) # Timeout, corte de acceso en minutos"
   ]
  },
  {
   "cell_type": "markdown",
   "metadata": {},
   "source": [
    "## 2. Obteniendo los Tweets"
   ]
  },
  {
   "cell_type": "code",
   "execution_count": 3,
   "metadata": {},
   "outputs": [
    {
     "data": {
      "text/plain": [
       "['im living in ur twitter circle rent-free',\n",
       " 'Earthquake : M 2.6 - 6km ENE of Covelo, CA: DYFI? - IIITime2022-09-20 14:12:13 UTC2022-09-20 14:12:13 UTC at epicen… https://t.co/TzQ8rhZP2v',\n",
       " 'Earthquake : M 3.2 - Mona Passage, Puerto Rico: Time2022-09-21 00:04:16 UTC2022-09-21 00:04:16 UTC at epicenterLoca… https://t.co/dTgH8foFeN',\n",
       " 'It shows the surface displacement associated with the June 1992 magnitude 7.3 earthquake in Landers, seen by interf… https://t.co/3bYgtQ2f0S',\n",
       " 'Earthquake : M 4.4 - Hindu Kush region, Afghanistan: Time2022-09-20 04:18:30 UTC2022-09-20 04:18:30 UTC at epicente… https://t.co/SAZa2CEmLu',\n",
       " 'Earthquake : M 4.2 - 71 km WSW of Abra Pampa, Argentina: Time2022-09-20 03:09:54 UTC2022-09-20 03:09:54 UTC at epic… https://t.co/7E2exzUxsa',\n",
       " 'Earthquake : M 3.4 - 11 km NW of Kalaoa, Hawaii: ShakeMap - IV DYFI? - IIITime2022-09-20 15:20:23 UTC2022-09-20 15:… https://t.co/HT9kWwS9oa',\n",
       " 'Earthquake : M 5.0 - 184 km WSW of Pariaman, Indonesia: Time2022-09-20 22:25:01 UTC2022-09-20 22:25:01 UTC at epice… https://t.co/jBXUfu5KPS',\n",
       " 'Earthquake : M 4.9 - 123 km E of Chignik, Alaska: ShakeMap - III DYFI? - I  Time2022-09-20 08:37:38 UTC2022-09-20 0… https://t.co/ngfbVrZAQD',\n",
       " 'Earthquake : M 3.5 - 6km WNW of Bombay Beach, CA: ShakeMap - IV DYFI? - VTime2022-09-20 18:34:41 UTC2022-09-20 18:3… https://t.co/coBKZq88d6',\n",
       " 'Earthquake : M 5.8 - 9 km SE of La Placita de Morelos, Mexico: PAGER - GREEN ShakeMap - V DYFI? - VITime2022-09-20… https://t.co/OnK8UxUD0R',\n",
       " 'Earthquake : M 3.0 - 68 km N of Charlotte Amalie, U.S. Virgin Islands: Time2022-09-20 19:58:59 UTC2022-09-20 19:58:… https://t.co/8ws2FRktUg',\n",
       " 'Earthquake : M 3.4 - Virgin Islands: Time2022-09-20 20:00:01 UTC2022-09-20 20:00:01 UTC at epicenterLocation18.962°… https://t.co/on3hNuD1go',\n",
       " 'Earthquake : M 2.7 - 6km WNW of Bombay Beach, CA: DYFI? - IITime2022-09-20 18:38:33 UTC2022-09-20 18:38:33 UTC at e… https://t.co/fKrUr8MspK',\n",
       " 'Earthquake : M 4.9 - 30 km NNE of Yigo Village, Guam: DYFI? - VTime2022-09-20 15:42:07 UTC2022-09-20 15:42:07 UTC a… https://t.co/zWXCxSWQZn',\n",
       " 'Earthquake : M 6.0 - 253 km ESE of Ust’-Kamchatsk Staryy, Russia: PAGER - GREEN ShakeMap - VI DYFI? - IITime2022-09… https://t.co/WQGhP5RprH',\n",
       " 'Earthquake : M 2.8 - 10km SW of Searles Valley, CA: DYFI? - IITime2022-09-20 09:21:56 UTC2022-09-20 09:21:56 UTC at… https://t.co/g2JtYKF1Ld',\n",
       " 'Earthquake : M 4.7 - 52 km S of Aguililla, Mexico: DYFI? - VITime2022-09-20 10:43:17 UTC2022-09-20 10:43:17 UTC at… https://t.co/UD2PbTiS1f',\n",
       " 'I remember traveling to Iapan in the aftermath of the Great Tohoku Earthquake when the rate was Y77=1USD… https://t.co/2q6SJBONeA',\n",
       " 'Earthquake : M 5.1 - South Sandwich Islands region: Time2022-09-20 18:49:18 UTC2022-09-20 18:49:18 UTC at epicenter… https://t.co/RRItv9SDCp',\n",
       " 'Earthquake : M 4.4 - 248 km ESE of Ust’-Kamchatsk Staryy, Russia: Time2022-09-20 18:22:33 UTC2022-09-20 18:22:33 UT… https://t.co/gxQAUifB3F',\n",
       " 'Earthquake : M 4.0 - 5km E of Covelo, CA: PAGER - GREEN ShakeMap - IV DYFI? - IIITime2022-09-20 14:03:08 UTC2022-09… https://t.co/fTlfS4oMuE',\n",
       " 'Earthquake : M 2.9 - 23 km SSW of Mammoth, Wyoming: DYFI? - ITime2022-09-20 06:42:10 UTC2022-09-20 06:42:10 UTC at… https://t.co/97n3rjdDoe',\n",
       " 'Earthquake : M 4.6 - south of the Kermadec Islands: Time2022-09-20 17:33:41 UTC2022-09-20 17:33:41 UTC at epicenter… https://t.co/O1a6RwdcVA',\n",
       " 'Earthquake : M 4.5 - Kermadec Islands region: Time2022-09-20 17:10:54 UTC2022-09-20 17:10:54 UTC at epicenterLocati… https://t.co/JarOJE2f5h',\n",
       " 'Earthquake : M 2.5 - 3 km W of Tallaboa, Puerto Rico: DYFI? - IITime2022-09-20 07:38:19 UTC2022-09-20 07:38:19 UTC… https://t.co/b3zPqga6QM',\n",
       " 'Earthquake : M 4.5 - 17 km E of Amalfi, Colombia: DYFI? - IIITime2022-09-20 04:54:54 UTC2022-09-20 04:54:54 UTC at… https://t.co/iRMx8pIYGs',\n",
       " 'Whatever the danger — tornado, earthquake or hurricane — you can sign up for emergency alerts to help you plan your… https://t.co/qVqOVbmtbc',\n",
       " 'Earthquake : M 2.7 - 50 km SSW of Whites City, New Mexico: DYFI? - ITime2022-09-20 01:10:42 UTC2022-09-20 01:10:42… https://t.co/1bxbrNR7m7',\n",
       " 'Major earthquake\\xa0strikes Mexico on Sept. 19 for third time since 1985, this time a magnitude 7.6; 1 dead… https://t.co/IMIzHitsXp',\n",
       " 'I dont like Sticker. They know it. As simple as that. The thing that they dont know much is: I LOVE EARTHQUAKE PLS… https://t.co/9RizKDdKF0',\n",
       " '@Casual_Bob_ As a kid, I grew up with blizzards. ( see photo below from the Blizzard of ‘78)……. As an adult, I am i… https://t.co/Hww4thRyIY',\n",
       " 'Earthquake : M 4.4 - Tajikistan: Time2022-09-20 12:57:22 UTC2022-09-20 12:57:22 UTC at epicenterLocation37.988°N 72… https://t.co/0UUB84iuO0',\n",
       " 'Earthquake : M 3.8 - 71 km W of San Antonio de los Cobres, Argentina: Time2022-09-20 13:06:07 UTC2022-09-20 13:06:0… https://t.co/VXGD6qnr9k',\n",
       " 'Earthquake : M 2.5 - 48 km SSW of Beaver, Alaska: Time2022-09-20 12:48:47 UTC2022-09-20 12:48:47 UTC at epicenterLo… https://t.co/EpwazYK5uY',\n",
       " 'Earthquake : M 4.1 - 111 km ENE of Qamdo, China: Time2022-09-20 10:23:28 UTC2022-09-20 10:23:28 UTC at epicenterLoc… https://t.co/jv4rlLmNSm',\n",
       " 'Earthquake : M 4.5 - 95 km NE of San Pedro de Atacama, Chile: Time2022-09-20 10:01:22 UTC2022-09-20 10:01:22 UTC at… https://t.co/4ZpotUmEkH',\n",
       " 'Earthquake : M 4.9 - south of the Kermadec Islands: Time2022-09-20 07:05:55 UTC2022-09-20 07:05:55 UTC at epicenter… https://t.co/FqDKvowg4c',\n",
       " 'Earthquake : M 4.3 - 65 km NE of Calama, Chile: Time2022-09-20 04:37:09 UTC2022-09-20 04:37:09 UTC at epicenterLoca… https://t.co/Nwumup3kgn',\n",
       " 'Earthquake : M 5.1 - 76 km NE of Norsup, Vanuatu: Time2022-09-20 04:22:48 UTC2022-09-20 04:22:48 UTC at epicenterLo… https://t.co/MJ320sBRzP',\n",
       " \".@_DontShootEm if there's an earthquake https://t.co/sMNB3HRhgd\",\n",
       " '@no_earthquake I’ll probably feel extremely uncomfortable afterwards but I’ll pay to watch Michael Knowles burn his scalp off with lye',\n",
       " 'was having a very utopic dream but it had to be interrupted with the✨earthquake evacuation drill✨',\n",
       " 'i thought this was a massive random dance play but then i realized its el zócalo &amp; its from the earthquake yesterda… https://t.co/FSKVUDElxP',\n",
       " '@Blarg08125613 probably',\n",
       " \"'It's really strange': Earthquake strikes Mexico on same date as two previous quakes: https://t.co/YZ1IWFBRaH\",\n",
       " \"@JetsenSunday @tomcraig1980 @mehdirhasan *look's at china where they have mandatory mask wearing 24/7 / wield build… https://t.co/wnqprAYmOI\",\n",
       " 'USGS reports a M1.7 earthquake, 11km WSW of Niland, CA on 9/20/22 @ 22:44:36 UTC https://t.co/aqYBwRmnje #earthquake',\n",
       " \"@verionra What? He's in my country and I didn't know? Also, there was an earthquake yesterday. I need to quit my jo… https://t.co/85RNJbTYiV\",\n",
       " '1.7 magnitude #earthquake. 7 mi from Niland, #CA, #UnitedStates https://t.co/bksesPByAC',\n",
       " '1.7 magnitude #earthquake. 11 km from Niland, #CA, #UnitedStates https://t.co/AVMXhn4SXP',\n",
       " '1.7 magnitude #earthquake. 7 mi from Niland, CA, #UnitedStates https://t.co/FpYGB8XIIw',\n",
       " 'This 880-metre bridge collapsed after an earthquake struck Taiwan. The quake killed one person and injured 146 peop… https://t.co/1t6VcqqMMR',\n",
       " '@stillgray Its because of climate change...and also the earthquake in Mexico...climate change cause it...It will mo… https://t.co/Z10JqIvcTL',\n",
       " '@no_earthquake Oh my God. Are they doing the scene with the hair product',\n",
       " '@Mamaof2L @KatsNCream @SooLee77344977 @mehekworld @ladyrocksavage @KensingtonRoyal Ha, our prime minister at the ti… https://t.co/O5aIyNC5uZ',\n",
       " 'Was that an earthquake?',\n",
       " '4.2 earthquake occurred near Lake Baykal Region, Russia at 22:49 UTC! #earthquake https://t.co/Gs3SAxuPZi',\n",
       " 'phivolcs_dost: #EarthquakePH #EarthquakeLeyte\\nEarthquake Information No.1\\nDate and Time: 21 September 2022 - 08:09… https://t.co/zzhNp7sOwh',\n",
       " '@will_plants @NextRoundLive Second tallest building in the world, by design, the earthquake shake moves building sw… https://t.co/iKkgfubwJV',\n",
       " 'Great Hyderabad 🇮🇳 green entrepreneurs!\\nThese IKEA-like wooden homes are weather and earthquake-proof, and have the… https://t.co/1WoDHLPadb',\n",
       " 'incredibly offensive sure but also kinda incredibly funny that this is gonna make like 2$ at the box office https://t.co/9OL27R6IfD',\n",
       " 'The world is ending dawg hurricane on PR, earthquake in Mexico. We gotta fuck tonight!',\n",
       " 'Eiza Gonzalez shows on video how she experienced the earthquake in Mexico: “That was very\\xa0strong” https://t.co/H8VwdwmEoQ',\n",
       " 'Two people were killed and more than 3,000 buildings were damaged by a powerful 7.7 magnitude earthquake that struc… https://t.co/1cQtYuUoVW',\n",
       " 'Gotta protect the booze even during an earthquake. 🥃😂 https://t.co/COOKIrFXVi',\n",
       " '@no_earthquake they’re both good!',\n",
       " 'Earthquake: M4.1 North Pacific Ocean, 30 km south of La Placita de Morelos, Mexico\\nDetail info:… https://t.co/J8nzvQtCAT',\n",
       " 'Mexicans right after an earthquake ❤️ love us 🇲🇽 https://t.co/qIuH6LqZEi',\n",
       " '➡️ Welcome to read and share the article!\\n📖 Numerical simulation of deep-hole resistivity anomaly caused by drillin… https://t.co/C6de9juYAr',\n",
       " '@Shehzad89 Earthquake has nothing to do with climate…you high',\n",
       " '@SeanDGoldstein @WaltherPPKS007 @BostonDotCom Sending immigrants to a rich state like Massachusetts is much better… https://t.co/0A0Pops31Y',\n",
       " \"Mexico's earthquake coincidence drives anxiety for many (from @AP) https://t.co/FjTpqWuKb1\",\n",
       " 'hi guys I’m on episode 2 of defenders now\\nthat ending shot of Matt after the ‘earthquake’ at the end of ep1 was cool as hell dude',\n",
       " \"@Roler42 🙏 I've never really been through a significant Earthquake, so I'm glad nothing was damaged!\",\n",
       " '1.80 magnitude earthquake occurred at Denali, AK, United States on 2022-09-21 00:22:49 UTC\\nMap:… https://t.co/4ZHlHXxleo',\n",
       " 'Another earthquake hits South\\xa0Carolina https://t.co/1WqW7RZFdO',\n",
       " '@SusanBaltes4 @Reactionary1137 @Sleazebuster Even the Haitians will tell you that the Clinton Foundation pocketed a… https://t.co/2G7IOwbx29',\n",
       " 'OMG! This happened in Taiwan few days ago during a 6.8 earthquake. https://t.co/1yua9H8hDH',\n",
       " '#ThisWeeksNews📰\\nBoring dude cheats on gorgeous talented wife\\n     (The whole 🌏 gasps...\\n      Married women just 🙄)… https://t.co/9dpsKNarnN',\n",
       " 'Earthquake Prediction: Dawn of the New Seismology [QHCQK2S]\\n\\nhttps://t.co/RmlOpaNuE5',\n",
       " 'Mexicans feel anxiety after hit with third earthquake on a Sept.\\xa019 https://t.co/bK1N4oke78',\n",
       " 'Experiencing an earthquake outside is frightening to me for the simple fact that spiders might fall out of the trees &amp; onto me',\n",
       " 'FIRST THE TYPHOON IN JAPAN THEN THE EARTHQUAKE IN TAIWAN. https://t.co/aVrQN3rWEx',\n",
       " '6.0 earthquake https://t.co/6ubWcJlkjS',\n",
       " 'I know she caused a earthquake in da restaurant tryna cut that shit up https://t.co/HZByTlsQwh',\n",
       " '1.7 magnitude #earthquake. 15 mi from Greenfield, #CA, United States https://t.co/3ckExN0kk3',\n",
       " '1.7 magnitude #earthquake. 25 km from Greenfield, #CA, United States https://t.co/miJWTYZQwY',\n",
       " '@no_earthquake Putting all the meat of \"a\" inside her taco https://t.co/HpUfoVxQy7',\n",
       " 'Earthquake.September 20, 2022 -3/3\\nM5.0 22:25:01 WSW of Pariaman, Indonesia 1.216S 98.576E Depth=18km',\n",
       " 'Earthquake.September 20, 2022 -2/3\\nM5.8 08:17:17 Colima-Michoacan border region, Mexico 18.476N 103.520W Depth=56km… https://t.co/bKYdv1uQZQ',\n",
       " 'Earthquake.September 20, 2022 -1/3\\nTime is UTC, source is USGS.\\nThe number of earthquakes of magnitude 5.0 or great… https://t.co/kOBiMG0o2D',\n",
       " '@Lane_ Possibly but…..an earthquake and you’re in a rooftop pool just casually hanging? I’d be screaming until I passed out',\n",
       " 'USGS reports a M1.72 earthquake, 13km SE of Pinnacles, CA on 9/20/22 @ 22:27:09 UTC https://t.co/VU9qHeDjB6 #earthquake',\n",
       " '9/21 is Abe birthday, Happy birthday to Abe san and 9/21 also a sad day for Taiwan because of the earthquake at 1999 https://t.co/IH9jXKoSmV',\n",
       " \"Mexico's earthquake coincidence drives anxiety for many (from @AP) https://t.co/A8firlx2BW\",\n",
       " 'Gear up for warm fall baking with this easy-to-make Burnt Sugar Earthquake Cake 🍂🍁 From mixing bowl to plate this E… https://t.co/tH0W6KkcgM',\n",
       " '@geonet @gnsscience ok, right, so I live very near the shore in Wharewaka. If there is a big earthquake do I need t… https://t.co/VUg7L1NUbo',\n",
       " 'Prelim Magnitude 3.5 Earthquake. 3 Miles WNW Of Bombay Beach. 1.9 Miles Deep. At 11:34am PDT. 09/20/22. #Earthquake… https://t.co/4eu57nVvKr',\n",
       " 'Whatever the danger — tornado, earthquake or hurricane — you can sign up for emergency alerts to help you plan your… https://t.co/oeC5oCQqMG']"
      ]
     },
     "execution_count": 3,
     "metadata": {},
     "output_type": "execute_result"
    }
   ],
   "source": [
    "# Query\n",
    "query = args[0]\n",
    "\n",
    "# Creando una lista de tweets\n",
    "list_tweets = []\n",
    "\n",
    "# Seleccionando tweets y agregandolos a una lista\n",
    "if len(args) == 1:\n",
    "    for status in tweepy.Cursor(api.search_tweets, # Método para buscar tweets\n",
    "                                q=query+' -filter:retweets', # Parámetros del query y quitamos los retweets\n",
    "                                lang='en', # Filtramos a Ingles\n",
    "                                result_type='recent').items(100): # Limitamos a 100 tweets\n",
    "        list_tweets.append(status.text)\n",
    "\n",
    "list_tweets"
   ]
  },
  {
   "cell_type": "markdown",
   "metadata": {},
   "source": [
    "## 3. Preprocesamiento de los Datos\n",
    "- Ya tenemos la lista de tweets, necesitamos pre-procesar el texto para formar El Corpus.\n",
    "- Necesitamos nuestro clasificador ya entrenado y el vectorizador también ya entrenado."
   ]
  },
  {
   "cell_type": "code",
   "execution_count": 4,
   "metadata": {},
   "outputs": [],
   "source": [
    "# Todo sale del directorio 'Clase 09 - Cornell...'\n",
    "# Cargando el Clasificador\n",
    "with open('classifier.pickle', 'rb') as f:\n",
    "    clasificador = pickle.load(f)\n",
    "    \n",
    "# Cargando el Vectorizador\n",
    "with open('tf_idf_model.pickle', 'rb') as f:\n",
    "    vectorizador = pickle.load(f)"
   ]
  },
  {
   "cell_type": "code",
   "execution_count": 5,
   "metadata": {},
   "outputs": [
    {
     "data": {
      "text/plain": [
       "TfidfVectorizer(max_df=0.6, max_features=2000, min_df=3,\n",
       "                stop_words=['i', 'me', 'my', 'myself', 'we', 'our', 'ours',\n",
       "                            'ourselves', 'you', \"you're\", \"you've\", \"you'll\",\n",
       "                            \"you'd\", 'your', 'yours', 'yourself', 'yourselves',\n",
       "                            'he', 'him', 'his', 'himself', 'she', \"she's\",\n",
       "                            'her', 'hers', 'herself', 'it', \"it's\", 'its',\n",
       "                            'itself', ...])"
      ]
     },
     "execution_count": 5,
     "metadata": {},
     "output_type": "execute_result"
    }
   ],
   "source": [
    "vectorizador"
   ]
  },
  {
   "cell_type": "code",
   "execution_count": 6,
   "metadata": {},
   "outputs": [
    {
     "data": {
      "text/plain": [
       "'earthquake km ene of covelo ca dyfi iiitime utc utc at epicen '"
      ]
     },
     "execution_count": 6,
     "metadata": {},
     "output_type": "execute_result"
    }
   ],
   "source": [
    "# Definimos contadores para los tweets positivos y negativos\n",
    "total_positivos = 0\n",
    "total_negativos = 0\n",
    "\n",
    "# Lista de tweets limpios\n",
    "clean_tweets = []\n",
    "\n",
    "for tweet in list_tweets:\n",
    "    # Quitando el link\n",
    "    tweet = re.sub(r'^https://t.co/[a-zA-Z0-9]*\\s', ' ', tweet)\n",
    "    tweet = re.sub(r'\\s*https://t.co/[a-zA-Z0-9]*\\s', ' ', tweet)\n",
    "    tweet = re.sub(r'\\s+https://t.co/[a-zA-Z0-9]*$', ' ', tweet)\n",
    "    \n",
    "    # Convertimos a minúsculas\n",
    "    tweet = tweet.lower()\n",
    "    \n",
    "    # Quitamos las constracciones (Ex: don't -> do not)\n",
    "    tweet = re.sub(r'that\\'s', 'that is', tweet)\n",
    "    tweet = re.sub(r'there\\'s', 'there is', tweet)\n",
    "    tweet = re.sub(r'what\\'s', 'what is', tweet)\n",
    "    tweet = re.sub(r'where\\'s', 'where is', tweet)\n",
    "    tweet = re.sub(r'who\\'s', 'who is', tweet)\n",
    "    tweet = re.sub(r'i\\'m', 'i am', tweet)\n",
    "    tweet = re.sub(r'he\\'s', 'he is', tweet)\n",
    "    tweet = re.sub(r'she\\'s', 'she is', tweet)\n",
    "    tweet = re.sub(r'they\\'re', 'they are', tweet)\n",
    "    tweet = re.sub(r'who\\'re', 'who are', tweet)\n",
    "    tweet = re.sub(r'ain\\'t', 'am not', tweet)\n",
    "    tweet = re.sub(r'would\\'nt', 'would not', tweet)\n",
    "    tweet = re.sub(r'should\\'nt', 'should is', tweet)\n",
    "    tweet = re.sub(r'can\\'t', 'can not', tweet)\n",
    "    tweet = re.sub(r'could\\'t', 'could not', tweet)\n",
    "    tweet = re.sub(r'won\\'t', 'will not', tweet)\n",
    "    tweet = re.sub(r'is\\'nt', 'is not', tweet)\n",
    "    tweet = re.sub(r'are\\'nt', 'are not', tweet)\n",
    "    \n",
    "    # Quitando todo lo que no sea palabras\n",
    "    tweet = re.sub(r'\\W', ' ', tweet)\n",
    "    # Quitando todo lo que no sea \n",
    "    tweet = re.sub(r'\\d', ' ', tweet)\n",
    "    #\n",
    "    tweet = re.sub(r'\\s+[a-z]\\s+', ' ', tweet)\n",
    "    tweet = re.sub(r'^[a-z]\\s+', ' ', tweet)\n",
    "    tweet = re.sub(r'\\s+[a-z]$', ' ', tweet)\n",
    "    # Cambiando de muchos espacios a uno solo\n",
    "    tweet = re.sub(r'\\s+', ' ', tweet)\n",
    "    \n",
    "    clean_tweets.append(tweet)\n",
    "    \n",
    "clean_tweets[1]"
   ]
  },
  {
   "cell_type": "markdown",
   "metadata": {},
   "source": [
    "## 4. Clasificando con los Modelos"
   ]
  },
  {
   "cell_type": "markdown",
   "metadata": {},
   "source": [
    "## 5. Sentimientos"
   ]
  },
  {
   "cell_type": "code",
   "execution_count": 7,
   "metadata": {},
   "outputs": [],
   "source": [
    "j = 0\n",
    "\n",
    "for tweet in clean_tweets:\n",
    "    vector = vectorizador.transform([tweet]).toarray()\n",
    "    sentimiento = clasificador.predict(vector)\n",
    "    if sentimiento == 0:\n",
    "        total_negativos += 1\n",
    "    else:\n",
    "        total_positivos += 1\n",
    "    j += 1"
   ]
  },
  {
   "cell_type": "code",
   "execution_count": 9,
   "metadata": {},
   "outputs": [
    {
     "data": {
      "image/png": "[encoded data removed]",
      "text/plain": [
       "<Figure size 432x288 with 1 Axes>"
      ]
     },
     "metadata": {
      "needs_background": "light"
     },
     "output_type": "display_data"
    }
   ],
   "source": [
    "import matplotlib.pyplot as plt\n",
    "import numpy as np\n",
    "\n",
    "# Graficamos los resultados\n",
    "objects = ['Positivo', 'Negativo']\n",
    "y_pos = np.arange(len(objects))\n",
    "\n",
    "plt.bar(y_pos, [total_positivos, total_negativos], alpha=0.5, color=['blue', 'yellow'])\n",
    "plt.xticks(y_pos, objects)\n",
    "plt.ylabel('Number')\n",
    "plt.title('Number of Positives and Negatives Tweets')\n",
    "plt.show()"
   ]
  },
  {
   "cell_type": "code",
   "execution_count": null,
   "metadata": {},
   "outputs": [],
   "source": []
  }
 ],
 "metadata": {
  "kernelspec": {
   "display_name": "Python 3 (ipykernel)",
   "language": "python",
   "name": "python3"
  },
  "language_info": {
   "codemirror_mode": {
    "name": "ipython",
    "version": 3
   },
   "file_extension": ".py",
   "mimetype": "text/x-python",
   "name": "python",
   "nbconvert_exporter": "python",
   "pygments_lexer": "ipython3",
   "version": "3.9.12"
  }
 },
 "nbformat": 4,
 "nbformat_minor": 1
}
