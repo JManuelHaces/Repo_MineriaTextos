{
 "cells": [
  {
   "cell_type": "markdown",
   "id": "38546c79",
   "metadata": {},
   "source": [
    "# Explorando Wordnet"
   ]
  },
  {
   "cell_type": "code",
   "execution_count": 1,
   "id": "050e6250",
   "metadata": {},
   "outputs": [],
   "source": [
    "from nltk.corpus import wordnet as wn"
   ]
  },
  {
   "cell_type": "markdown",
   "id": "b1caeeef",
   "metadata": {},
   "source": [
    "## Obteniendo una palabra y sus atríbutos"
   ]
  },
  {
   "cell_type": "code",
   "execution_count": 6,
   "id": "28ba7650",
   "metadata": {},
   "outputs": [
    {
     "data": {
      "text/plain": [
       "[Synset('dog.n.01'),\n",
       " Synset('frump.n.01'),\n",
       " Synset('dog.n.03'),\n",
       " Synset('cad.n.01'),\n",
       " Synset('frank.n.02'),\n",
       " Synset('pawl.n.01'),\n",
       " Synset('andiron.n.01'),\n",
       " Synset('chase.v.01')]"
      ]
     },
     "execution_count": 6,
     "metadata": {},
     "output_type": "execute_result"
    }
   ],
   "source": [
    "# El método synsets nos premite encontar los sinónimos de alguna palabra\n",
    "wn.synsets('dog')"
   ]
  },
  {
   "cell_type": "code",
   "execution_count": 7,
   "id": "c07f68f1",
   "metadata": {},
   "outputs": [
    {
     "data": {
      "text/plain": [
       "[Synset('chase.v.01')]"
      ]
     },
     "execution_count": 7,
     "metadata": {},
     "output_type": "execute_result"
    }
   ],
   "source": [
    "# Podemos usar un argumento POS al buscar la palabra\n",
    "# El argumento puede tomar los valores VERB, NOUN, ADJ, ADV\n",
    "wn.synsets('dog', pos=wn.VERB)"
   ]
  },
  {
   "cell_type": "markdown",
   "id": "841b9360",
   "metadata": {},
   "source": [
    "- El nombre de un synset tiene 3 partes 'word.pos.nn'\n",
    "- Podemos ller las definiciones de cada uno de los términos"
   ]
  },
  {
   "cell_type": "code",
   "execution_count": 9,
   "id": "344fccbc",
   "metadata": {},
   "outputs": [
    {
     "data": {
      "text/plain": [
       "Synset('dog.n.01')"
      ]
     },
     "execution_count": 9,
     "metadata": {},
     "output_type": "execute_result"
    }
   ],
   "source": [
    "# Obtener el synset especifico\n",
    "wn.synset('dog.n.01')"
   ]
  },
  {
   "cell_type": "code",
   "execution_count": 11,
   "id": "1310da0f",
   "metadata": {},
   "outputs": [
    {
     "name": "stdout",
     "output_type": "stream",
     "text": [
      "a member of the genus Canis (probably descended from the common wolf) that has been domesticated by man since prehistoric times; occurs in many breeds\n"
     ]
    }
   ],
   "source": [
    "# Obteniendo la definición\n",
    "print(wn.synset('dog.n.01').definition())"
   ]
  },
  {
   "cell_type": "code",
   "execution_count": 14,
   "id": "9aa5e0b7",
   "metadata": {},
   "outputs": [
    {
     "name": "stdout",
     "output_type": "stream",
     "text": [
      "the dog barked all night\n"
     ]
    }
   ],
   "source": [
    "# Ver ejemplos de la palabra\n",
    "# Te regresa una lista, por lo que es posible elegir entre varias\n",
    "print(wn.synset('dog.n.01').examples()[0])"
   ]
  },
  {
   "cell_type": "markdown",
   "id": "fcdc196e",
   "metadata": {},
   "source": [
    "## Lemmas\n",
    "- El método 'lemmas()' nos permite encontrar un listado de palabras dentro de un synset.\n",
    "- Lemma = Forma Básica (canónica) de una palabra"
   ]
  },
  {
   "cell_type": "code",
   "execution_count": 16,
   "id": "2e4f997f",
   "metadata": {},
   "outputs": [
    {
     "data": {
      "text/plain": [
       "['dog', 'domestic_dog', 'Canis_familiaris']"
      ]
     },
     "execution_count": 16,
     "metadata": {},
     "output_type": "execute_result"
    }
   ],
   "source": [
    "[str(lemma.name()) for lemma in wn.synset('dog.n.01').lemmas()]"
   ]
  },
  {
   "cell_type": "markdown",
   "id": "3c7180b9",
   "metadata": {},
   "source": [
    "## Diferentes Idiomas\n",
    "- Wordnet nos permite acceder a palabras en otras lenguas"
   ]
  },
  {
   "cell_type": "code",
   "execution_count": 21,
   "id": "8b6286ef",
   "metadata": {
    "scrolled": true
   },
   "outputs": [
    {
     "data": {
      "text/plain": [
       "['als',\n",
       " 'arb',\n",
       " 'bul',\n",
       " 'cat',\n",
       " 'cmn',\n",
       " 'dan',\n",
       " 'ell',\n",
       " 'eng',\n",
       " 'eus',\n",
       " 'fin',\n",
       " 'fra',\n",
       " 'glg',\n",
       " 'heb',\n",
       " 'hrv',\n",
       " 'ind',\n",
       " 'isl',\n",
       " 'ita',\n",
       " 'ita_iwn',\n",
       " 'jpn',\n",
       " 'lit',\n",
       " 'nld',\n",
       " 'nno',\n",
       " 'nob',\n",
       " 'pol',\n",
       " 'por',\n",
       " 'ron',\n",
       " 'slk',\n",
       " 'slv',\n",
       " 'spa',\n",
       " 'swe',\n",
       " 'tha',\n",
       " 'zsm']"
      ]
     },
     "execution_count": 21,
     "metadata": {},
     "output_type": "execute_result"
    }
   ],
   "source": [
    "# Lenguajes con los que cuenta\n",
    "sorted(wn.langs())"
   ]
  },
  {
   "cell_type": "code",
   "execution_count": 22,
   "id": "6a53cba9",
   "metadata": {},
   "outputs": [
    {
     "data": {
      "text/plain": [
       "32"
      ]
     },
     "execution_count": 22,
     "metadata": {},
     "output_type": "execute_result"
    }
   ],
   "source": [
    "# Número de lenguajes con los que se cuentan\n",
    "len(sorted(wn.langs()))"
   ]
  },
  {
   "cell_type": "code",
   "execution_count": 18,
   "id": "3aaa20d5",
   "metadata": {},
   "outputs": [
    {
     "data": {
      "text/plain": [
       "['can', 'perro']"
      ]
     },
     "execution_count": 18,
     "metadata": {},
     "output_type": "execute_result"
    }
   ],
   "source": [
    "wn.synset('dog.n.01').lemma_names('spa')"
   ]
  },
  {
   "cell_type": "code",
   "execution_count": 20,
   "id": "e07780b9",
   "metadata": {},
   "outputs": [
    {
     "data": {
      "text/plain": [
       "['canis_familiaris', 'chien']"
      ]
     },
     "execution_count": 20,
     "metadata": {},
     "output_type": "execute_result"
    }
   ],
   "source": [
    "wn.synset('dog.n.01').lemma_names('fra')"
   ]
  },
  {
   "cell_type": "markdown",
   "id": "6d8d12c5",
   "metadata": {},
   "source": [
    "# Explorando la Jerarquía de Wordnet\n",
    "- Wordnet está organizado como una Red Semántica, por lo cual podemos explorar la jerarquia de conceptos"
   ]
  },
  {
   "cell_type": "code",
   "execution_count": 23,
   "id": "1f10cd8e",
   "metadata": {},
   "outputs": [
    {
     "data": {
      "text/plain": [
       "[Synset('canine.n.02'), Synset('domestic_animal.n.01')]"
      ]
     },
     "execution_count": 23,
     "metadata": {},
     "output_type": "execute_result"
    }
   ],
   "source": [
    "dog = wn.synset('dog.n.01')\n",
    "dog.hypernyms()"
   ]
  },
  {
   "cell_type": "code",
   "execution_count": 24,
   "id": "94988a50",
   "metadata": {},
   "outputs": [
    {
     "data": {
      "text/plain": [
       "[Synset('basenji.n.01'),\n",
       " Synset('corgi.n.01'),\n",
       " Synset('cur.n.01'),\n",
       " Synset('dalmatian.n.02'),\n",
       " Synset('great_pyrenees.n.01'),\n",
       " Synset('griffon.n.02'),\n",
       " Synset('hunting_dog.n.01'),\n",
       " Synset('lapdog.n.01'),\n",
       " Synset('leonberg.n.01'),\n",
       " Synset('mexican_hairless.n.01'),\n",
       " Synset('newfoundland.n.01'),\n",
       " Synset('pooch.n.01'),\n",
       " Synset('poodle.n.01'),\n",
       " Synset('pug.n.01'),\n",
       " Synset('puppy.n.01'),\n",
       " Synset('spitz.n.01'),\n",
       " Synset('toy_dog.n.01'),\n",
       " Synset('working_dog.n.01')]"
      ]
     },
     "execution_count": 24,
     "metadata": {},
     "output_type": "execute_result"
    }
   ],
   "source": [
    "# Hiponimos de perro, es decir lo que es parte de perro\n",
    "dog.hyponyms()"
   ]
  },
  {
   "cell_type": "code",
   "execution_count": 25,
   "id": "8c2aaa27",
   "metadata": {},
   "outputs": [
    {
     "data": {
      "text/plain": [
       "[Synset('canis.n.01'), Synset('pack.n.06')]"
      ]
     },
     "execution_count": 25,
     "metadata": {},
     "output_type": "execute_result"
    }
   ],
   "source": [
    "# Obteniendo Homonimos, es decir, lo que está arriba de 'perro'\n",
    "dog.member_holonyms()"
   ]
  },
  {
   "cell_type": "code",
   "execution_count": 26,
   "id": "6a3c35f3",
   "metadata": {},
   "outputs": [
    {
     "data": {
      "text/plain": [
       "[Synset('flag.n.07')]"
      ]
     },
     "execution_count": 26,
     "metadata": {},
     "output_type": "execute_result"
    }
   ],
   "source": [
    "# \n",
    "dog.part_meronyms()"
   ]
  },
  {
   "cell_type": "markdown",
   "id": "42648b57",
   "metadata": {},
   "source": [
    "## Ejemplos en Relaciones Léxicas\n",
    "### 1er Ejemplo"
   ]
  },
  {
   "cell_type": "code",
   "execution_count": 27,
   "id": "bc02998a",
   "metadata": {},
   "outputs": [],
   "source": [
    "# Hyponym -> un concepto más específico\n",
    "printer = wn.synset('printer.n.03')"
   ]
  },
  {
   "cell_type": "code",
   "execution_count": 31,
   "id": "9a660849",
   "metadata": {},
   "outputs": [
    {
     "data": {
      "text/plain": [
       "['Addressograph',\n",
       " 'addressing_machine',\n",
       " 'character-at-a-time_printer',\n",
       " 'character_printer',\n",
       " 'electrostatic_printer',\n",
       " 'impact_printer',\n",
       " 'line-at-a-time_printer',\n",
       " 'line_printer',\n",
       " 'page-at-a-time_printer',\n",
       " 'page_printer',\n",
       " 'printer',\n",
       " 'serial_printer',\n",
       " 'thermal_printer',\n",
       " 'typesetting_machine']"
      ]
     },
     "execution_count": 31,
     "metadata": {},
     "output_type": "execute_result"
    }
   ],
   "source": [
    "# Encontrar las palabras en forma canónica que tienen un significado más especifico que la palabra 'printer.n.03'\n",
    "sorted([lemma.name() for synset in printer.hyponyms() for lemma in synset.lemmas()])"
   ]
  },
  {
   "cell_type": "code",
   "execution_count": 32,
   "id": "2dc02e63",
   "metadata": {},
   "outputs": [
    {
     "data": {
      "text/plain": [
       "['machine']"
      ]
     },
     "execution_count": 32,
     "metadata": {},
     "output_type": "execute_result"
    }
   ],
   "source": [
    "# hypernym ->  un concepto más general\n",
    "[lemma.name() for synset in printer.hypernyms() for lemma in synset.lemmas()]"
   ]
  },
  {
   "cell_type": "code",
   "execution_count": 33,
   "id": "b5147474",
   "metadata": {},
   "outputs": [
    {
     "data": {
      "text/plain": [
       "[Synset('entity.n.01')]"
      ]
     },
     "execution_count": 33,
     "metadata": {},
     "output_type": "execute_result"
    }
   ],
   "source": [
    "# Podemos ir hasta raíz de la jerarquía\n",
    "printer.root_hypernyms()"
   ]
  },
  {
   "cell_type": "code",
   "execution_count": 34,
   "id": "ced5d863",
   "metadata": {
    "scrolled": true
   },
   "outputs": [
    {
     "data": {
      "text/plain": [
       "['entity.n.01',\n",
       " 'physical_entity.n.01',\n",
       " 'object.n.01',\n",
       " 'whole.n.02',\n",
       " 'artifact.n.01',\n",
       " 'instrumentality.n.03',\n",
       " 'device.n.01',\n",
       " 'machine.n.01',\n",
       " 'printer.n.03']"
      ]
     },
     "execution_count": 34,
     "metadata": {},
     "output_type": "execute_result"
    }
   ],
   "source": [
    "# Y revisar la ruta hacia la raiz de la jerarquía\n",
    "[synset.name() for synset in printer.hypernym_paths()[0]]"
   ]
  },
  {
   "cell_type": "markdown",
   "id": "4808bf53",
   "metadata": {},
   "source": [
    "### 2do Ejemplo"
   ]
  },
  {
   "cell_type": "code",
   "execution_count": 35,
   "id": "374feae8",
   "metadata": {},
   "outputs": [
    {
     "data": {
      "text/plain": [
       "[Synset('burl.n.02'),\n",
       " Synset('crown.n.07'),\n",
       " Synset('limb.n.02'),\n",
       " Synset('stump.n.01'),\n",
       " Synset('trunk.n.01')]"
      ]
     },
     "execution_count": 35,
     "metadata": {},
     "output_type": "execute_result"
    }
   ],
   "source": [
    "# Meronym -> denota una parte que forma un 'todo'\n",
    "tree = wn.synset('tree.n.01')\n",
    "# Obtiene las partes\n",
    "tree.part_meronyms()"
   ]
  },
  {
   "cell_type": "code",
   "execution_count": 36,
   "id": "68c84030",
   "metadata": {},
   "outputs": [
    {
     "data": {
      "text/plain": [
       "[Synset('heartwood.n.01'), Synset('sapwood.n.01')]"
      ]
     },
     "execution_count": 36,
     "metadata": {},
     "output_type": "execute_result"
    }
   ],
   "source": [
    "# Obtiene substancias\n",
    "tree.substance_meronyms()"
   ]
  },
  {
   "cell_type": "code",
   "execution_count": 37,
   "id": "a29b0c28",
   "metadata": {},
   "outputs": [
    {
     "data": {
      "text/plain": [
       "[Synset('chemical_element.n.01'), Synset('molecule.n.01')]"
      ]
     },
     "execution_count": 37,
     "metadata": {},
     "output_type": "execute_result"
    }
   ],
   "source": [
    "# Holonyms -> denota la membresía a algo\n",
    "# También hay part_holonyms() y subset_holonyms()\n",
    "wn.synset('atom.n.01').part_holonyms()"
   ]
  },
  {
   "cell_type": "code",
   "execution_count": 38,
   "id": "5180ded6",
   "metadata": {},
   "outputs": [
    {
     "data": {
      "text/plain": [
       "[Synset('water.n.01')]"
      ]
     },
     "execution_count": 38,
     "metadata": {},
     "output_type": "execute_result"
    }
   ],
   "source": [
    "wn.synset('hydrogen.n.01').substance_holonyms()"
   ]
  },
  {
   "cell_type": "markdown",
   "id": "3f2629c8",
   "metadata": {},
   "source": [
    "## Verbos\n",
    "- Para verbos, tenemos la relación 'entailment()' la cual es una relación 'causa-efecto'"
   ]
  },
  {
   "cell_type": "code",
   "execution_count": 39,
   "id": "66f97fb9",
   "metadata": {},
   "outputs": [
    {
     "data": {
      "text/plain": [
       "[Synset('chew.v.01'), Synset('swallow.v.01')]"
      ]
     },
     "execution_count": 39,
     "metadata": {},
     "output_type": "execute_result"
    }
   ],
   "source": [
    "wn.synset('eat.v.01').entailments()"
   ]
  },
  {
   "cell_type": "code",
   "execution_count": 40,
   "id": "7f350cd9",
   "metadata": {},
   "outputs": [
    {
     "data": {
      "text/plain": [
       "[Synset('motor_vehicle.n.01')]"
      ]
     },
     "execution_count": 40,
     "metadata": {},
     "output_type": "execute_result"
    }
   ],
   "source": [
    "# Podemos 'medir' la similitud entre dos palabras de acuerdo a las rutas en la jerarquía donde se encuentran\n",
    "truck = wn.synset('truck.n.01')\n",
    "limousine = wn.synset('limousine.n.01')\n",
    "\n",
    "truck.lowest_common_hypernyms(limousine)"
   ]
  },
  {
   "cell_type": "code",
   "execution_count": 45,
   "id": "848f8171",
   "metadata": {},
   "outputs": [
    {
     "data": {
      "text/plain": [
       "0"
      ]
     },
     "execution_count": 45,
     "metadata": {},
     "output_type": "execute_result"
    }
   ],
   "source": [
    "# POdemos determinar qué tan 'especifica' es una palabra conociendo su 'profundidad' en la jerarquia\n",
    "wn.synset('entity.n.01').min_depth()"
   ]
  },
  {
   "cell_type": "code",
   "execution_count": 46,
   "id": "f3fd4739",
   "metadata": {},
   "outputs": [
    {
     "data": {
      "text/plain": [
       "10"
      ]
     },
     "execution_count": 46,
     "metadata": {},
     "output_type": "execute_result"
    }
   ],
   "source": [
    "wn.synset('car.n.01').min_depth()"
   ]
  },
  {
   "cell_type": "code",
   "execution_count": 47,
   "id": "c4e16633",
   "metadata": {},
   "outputs": [
    {
     "data": {
      "text/plain": [
       "14"
      ]
     },
     "execution_count": 47,
     "metadata": {},
     "output_type": "execute_result"
    }
   ],
   "source": [
    "wn.synset('horse.n.01').min_depth()"
   ]
  },
  {
   "cell_type": "code",
   "execution_count": 48,
   "id": "71f8b3b2",
   "metadata": {},
   "outputs": [
    {
     "data": {
      "text/plain": [
       "15"
      ]
     },
     "execution_count": 48,
     "metadata": {},
     "output_type": "execute_result"
    }
   ],
   "source": [
    "wn.synset('mare.n.01').min_depth()"
   ]
  },
  {
   "cell_type": "markdown",
   "id": "a8b856a5",
   "metadata": {},
   "source": [
    "Una forma relativamente simple de medir la similitud entre dos palabras es conocer la longitud de una ruta entre ellos (pasando por el lower_common_hypernym()).\n",
    "- La salida es range(0,1), donde:\n",
    "    - 0: Nada similar\n",
    "    - 1: Totalmente similar\n",
    "    - Si la salida es '-1' no existe una ruta entre ellos\n",
    "   \n",
    "Ejemplo:"
   ]
  },
  {
   "cell_type": "code",
   "execution_count": 49,
   "id": "7e65e4b8",
   "metadata": {},
   "outputs": [
    {
     "name": "stdout",
     "output_type": "stream",
     "text": [
      "Train -> Horse: 0.058823529411764705\n",
      "Horse -> Train: 0.058823529411764705\n",
      "Horse -> Animal: 0.1111111111111111\n",
      "Train -> Atom: 0.09090909090909091\n",
      "Animal -> Atom: 0.1111111111111111\n"
     ]
    }
   ],
   "source": [
    "# Obteniendo las palabras\n",
    "train = wn.synset('train.n.01')\n",
    "horse = wn.synset('horse.n.01')\n",
    "animal = wn.synset('animal.n.01')\n",
    "atom = wn.synset('atom.n.01')\n",
    "\n",
    "# Observando la similitud entre las combinaciones de palabras\n",
    "print(f'Train -> Horse: {train.path_similarity(horse)}')\n",
    "print(f'Horse -> Train: {horse.path_similarity(train)}')\n",
    "print(f'Horse -> Animal: {horse.path_similarity(animal)}')\n",
    "print(f'Train -> Atom: {train.path_similarity(atom)}')\n",
    "print(f'Animal -> Atom: {animal.path_similarity(atom)}')"
   ]
  },
  {
   "cell_type": "code",
   "execution_count": 52,
   "id": "a95cff3d",
   "metadata": {},
   "outputs": [
    {
     "name": "stdout",
     "output_type": "stream",
     "text": [
      "Animal -> Computer: 0.1111111111111111\n",
      "Animal -> Computer: [Synset('whole.n.02')]\n"
     ]
    }
   ],
   "source": [
    "computer = wn.synset('computer.n.01')\n",
    "\n",
    "print(f'Animal -> Computer: {animal.path_similarity(computer)}')\n",
    "print(f'Animal -> Computer: {animal.lowest_common_hypernyms(computer)}')"
   ]
  },
  {
   "cell_type": "code",
   "execution_count": 56,
   "id": "5e0a8ab9",
   "metadata": {
    "scrolled": true
   },
   "outputs": [
    {
     "name": "stdout",
     "output_type": "stream",
     "text": [
      "love.n.01 \t a strong positive emotion of regard and affection\n",
      "\t love\n",
      "\n",
      "\n",
      "love.n.02 \t any object of warm affection or devotion\n",
      "\t love\n",
      "\t passion\n",
      "\n",
      "\n",
      "beloved.n.01 \t a beloved person; used as terms of endearment\n",
      "\t beloved\n",
      "\t dear\n",
      "\t dearest\n",
      "\t honey\n",
      "\t love\n",
      "\n",
      "\n",
      "love.n.04 \t a deep feeling of sexual desire and attraction\n",
      "\t love\n",
      "\t sexual_love\n",
      "\t erotic_love\n",
      "\n",
      "\n",
      "love.n.05 \t a score of zero in tennis or squash\n",
      "\t love\n",
      "\n",
      "\n",
      "sexual_love.n.02 \t sexual activities (often including sexual intercourse) between two people\n",
      "\t sexual_love\n",
      "\t lovemaking\n",
      "\t making_love\n",
      "\t love\n",
      "\t love_life\n",
      "\n",
      "\n",
      "love.v.01 \t have a great affection or liking for\n",
      "\t love\n",
      "\n",
      "\n",
      "love.v.02 \t get pleasure from\n",
      "\t love\n",
      "\t enjoy\n",
      "\n",
      "\n",
      "love.v.03 \t be enamored or in love with\n",
      "\t love\n",
      "\n",
      "\n",
      "sleep_together.v.01 \t have sexual intercourse with\n",
      "\t sleep_together\n",
      "\t roll_in_the_hay\n",
      "\t love\n",
      "\t make_out\n",
      "\t make_love\n",
      "\t sleep_with\n",
      "\t get_laid\n",
      "\t have_sex\n",
      "\t know\n",
      "\t do_it\n",
      "\t be_intimate\n",
      "\t have_intercourse\n",
      "\t have_it_away\n",
      "\t have_it_off\n",
      "\t screw\n",
      "\t fuck\n",
      "\t jazz\n",
      "\t eff\n",
      "\t hump\n",
      "\t lie_with\n",
      "\t bed\n",
      "\t have_a_go_at_it\n",
      "\t bang\n",
      "\t get_it_on\n",
      "\t bonk\n",
      "\n",
      "\n"
     ]
    }
   ],
   "source": [
    "for synset in wn.synsets('love'):\n",
    "    print(synset.name(), '\\t', synset.definition())\n",
    "    for lemma in synset.lemmas():\n",
    "        print('\\t', lemma.name())\n",
    "    print('\\n')"
   ]
  },
  {
   "cell_type": "code",
   "execution_count": 60,
   "id": "7926bd8c",
   "metadata": {
    "scrolled": true
   },
   "outputs": [
    {
     "name": "stdout",
     "output_type": "stream",
     "text": [
      "love.n.01 \t a strong positive emotion of regard and affection\n",
      "\t love\n",
      "\t\t Antonyms:\n",
      "\t\t\t hate\n",
      "\n",
      "\n",
      "love.n.02 \t any object of warm affection or devotion\n",
      "\t love\n",
      "\t passion\n",
      "\n",
      "\n",
      "beloved.n.01 \t a beloved person; used as terms of endearment\n",
      "\t beloved\n",
      "\t dear\n",
      "\t dearest\n",
      "\t honey\n",
      "\t love\n",
      "\n",
      "\n",
      "love.n.04 \t a deep feeling of sexual desire and attraction\n",
      "\t love\n",
      "\t sexual_love\n",
      "\t erotic_love\n",
      "\n",
      "\n",
      "love.n.05 \t a score of zero in tennis or squash\n",
      "\t love\n",
      "\n",
      "\n",
      "sexual_love.n.02 \t sexual activities (often including sexual intercourse) between two people\n",
      "\t sexual_love\n",
      "\t lovemaking\n",
      "\t making_love\n",
      "\t love\n",
      "\t love_life\n",
      "\n",
      "\n",
      "love.v.01 \t have a great affection or liking for\n",
      "\t love\n",
      "\t\t Antonyms:\n",
      "\t\t\t hate\n",
      "\n",
      "\n",
      "love.v.02 \t get pleasure from\n",
      "\t love\n",
      "\t enjoy\n",
      "\n",
      "\n",
      "love.v.03 \t be enamored or in love with\n",
      "\t love\n",
      "\n",
      "\n",
      "sleep_together.v.01 \t have sexual intercourse with\n",
      "\t sleep_together\n",
      "\t roll_in_the_hay\n",
      "\t love\n",
      "\t make_out\n",
      "\t make_love\n",
      "\t sleep_with\n",
      "\t get_laid\n",
      "\t have_sex\n",
      "\t know\n",
      "\t do_it\n",
      "\t be_intimate\n",
      "\t have_intercourse\n",
      "\t have_it_away\n",
      "\t have_it_off\n",
      "\t screw\n",
      "\t fuck\n",
      "\t jazz\n",
      "\t eff\n",
      "\t hump\n",
      "\t lie_with\n",
      "\t bed\n",
      "\t have_a_go_at_it\n",
      "\t bang\n",
      "\t get_it_on\n",
      "\t bonk\n",
      "\n",
      "\n"
     ]
    }
   ],
   "source": [
    "# Con todo y Antonimos\n",
    "for synset in wn.synsets('love'):\n",
    "    print(synset.name(), '\\t', synset.definition())\n",
    "    for lemma in synset.lemmas():\n",
    "        print('\\t', lemma.name())\n",
    "        if lemma.antonyms():\n",
    "            print('\\t\\t Antonyms:')\n",
    "            for ant in lemma.antonyms():\n",
    "                print('\\t\\t\\t', ant.name())\n",
    "    print('\\n')"
   ]
  },
  {
   "cell_type": "code",
   "execution_count": null,
   "id": "eb3048a2",
   "metadata": {},
   "outputs": [],
   "source": []
  }
 ],
 "metadata": {
  "kernelspec": {
   "display_name": "Python 3 (ipykernel)",
   "language": "python",
   "name": "python3"
  },
  "language_info": {
   "codemirror_mode": {
    "name": "ipython",
    "version": 3
   },
   "file_extension": ".py",
   "mimetype": "text/x-python",
   "name": "python",
   "nbconvert_exporter": "python",
   "pygments_lexer": "ipython3",
   "version": "3.10.4"
  }
 },
 "nbformat": 4,
 "nbformat_minor": 5
}
