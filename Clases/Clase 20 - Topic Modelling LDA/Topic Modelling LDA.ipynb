{
 "cells": [
  {
   "cell_type": "code",
   "execution_count": 3,
   "metadata": {
    "collapsed": true
   },
   "outputs": [],
   "source": [
    "import pandas as pd\n",
    "\n",
    "pd.set_option('display.max_colwidth', 800)"
   ]
  },
  {
   "cell_type": "code",
   "execution_count": 7,
   "outputs": [
    {
     "data": {
      "text/plain": "                                                                                                            title_en  \\\n0                                                             The AAFC Productivity Account for Canadian Agriculture   \n1                                                Swift Current Water Chemistry - Long Term Tillage Study - 1962-2011   \n2                                                                Minor Use Pesticides Program Project Status by Crop   \n3                                                      Minor Use Pesticides Program Submission Status by Fiscal Year   \n4                                                Minor Use Pesticides Program Trial Statistics by Year by Discipline   \n...                                                                                                              ...   \n10811  Value of business expenditures in research and development (BERD) by firm receiving WD program funding (in $)   \n10812                             Percentage of professional jobs (including science & technology) in western Canada   \n10813                                                     Value of international business activity facilitated by WD   \n10814                                      Number of communities benefitting from Community Economic Growth projects   \n10815                               Number of communities benefitting from federal public infrastructure investments   \n\n                                                                                                                                                                                                                                                                                                                                                                                                                                                                                                                                                                                                                                                                                                                                                                                                                        description_en  \\\n0                                       The AAFC Productivity Account for Canadian agriculture is an annual time-series database, covering the years 1961-2011, that is comprised of price index and constant dollar implicit quantity series for gross output and input aggregates. The data are defined at the national level only – i.e. for the whole of Canada. These data are used to estimate a total factor productivity (TFP) index for Canadian agriculture, which is the ratio of total gross output to total input, where both output and input are constant dollar implicit quantities. Average growth in the TFP index, referred to as TFP growth, can be estimated using a variety of methods; the growth rate reported in AAFC publications is estimated using OLS.\\n\\nFurther documentation provided in AAFC_PACA.odt   \n1                                                                                                                                                                                                                                                                                                                                                                                                                                                                                                           The Swift current water quantity and quality is an annual time-series database covering the period of 1962-2011. This database contains datasets for annual runoff volume, peak flow rates, water quality attributes, snow water equivalent and soil moisture from an edge of field study conducted at Swift Current, SK.    \n2      The Pest Management Centre’s (PMC) Minor Use Pesticides Program is a joint initiative between Agriculture and Agri-Food Canada and Health Canada’s Pest Management Regulatory Agency (PMRA) to improve the availability of reduced-risk products to agricultural producers and improve the access to a broad range of minor use pesticides. The PMC reviews the data resulting from field trials and laboratory analyses, and prepares a submission to PMRA to support the registration of the minor use pesticide. Upon receiving a finalized regulatory submission from PMC, PMRA reviews it and decides whether or not to accept the pesticide for use in Canada.\\n\\nThis is a complete list of PMC’s projects with their statuses. For those projects with the status D.3.2 Review Complete, please check with the pesti...   \n3      The Pest Management Centre Minor Use Pesticides Program is a joint initiative between Agriculture and Agri-Food Canada and Health Canada’s Pest Management Regulatory Agency (PMRA) to improve the availability of reduced-risk products to agricultural producers and improve the access to a broad range of minor use pesticides. The PMC reviews the data resulting from field trials and laboratory analyses, and prepares a submission to PMRA to support the registration of the minor use pesticide. Upon receiving a finalized regulatory submission from PMC, PMRA reviews it and decides whether or not to accept the pesticide for use in Canada.\\n\\nThis list of submissions to PMRA is the result of PMC’s work and is for information purposes only. To find out if the pesticide can be used, please check wi...   \n4                                                                                                                                                                                                                                                                                                                                                                                                                                                                                                                                                                                                                 The following table provides information pertaining to the minor use pesticide study and/or trial status. These studies/trials are managed by the Pest management Center of the AAFC. This table is updated monthly.   \n...                                                                                                                                                                                                                                                                                                                                                                                                                                                                                                                                                                                                                                                                                                                                                                                                                                ...   \n10811                                                                                                                                                                                                                                                                                                                                                                                                                                             Business Expenditures in Research and Development (BERD) – expenditures by private firms on research and development. It includes creative work undertaken on a systematic basis in order to increase the stock of knowledge, and the use of this knowledge to devise new applications. R&D covers three activities: basic research, applied research, and experimental development.   \n10812                                                                                                                                                                                                                                                       Professional, science and technology-related jobs – Based on an OECD definition of ‘science and technology-related jobs’ that includes occupations beyond those typically associated with science, technology, engineering and mathematics (STEM) or merely the natural sciences. It includes physical, mathematical and engineering science professionals, life science and health professionals, teaching professionals, and other professionals in fields such as business, legal, information, social science, creative, religious, and public service administration.   \n10813                                                                                                                                                                                                                                                                                                                                                                                                                                                                                                                                                                                                                                                                       The sum of the dollar value of international sales, foreign investment, international research agreements and economic impact from international visitors.   \n10814                                                                                                                                                                                                                                                                                                                                                                                                                                                                                \"Communities benefitting\" include all distinct communities receiving benefit from a community-based project under one of the following three sub-programs:  Community Development, Community Futures Program, or Targeted Economic Initiatives.  Note: If a community benefits from two different projects, that community will be counted twice.   \n10815                                                                                                                                                                                                                                                                                                                                                                                                                                                                                                                                                                               \"Communities benefitting\" include all distinct communities receiving benefit from a new or improved infrastructure system, network, or facility.  Note: If a community benefits from two different projects, that community will be counted twice.   \n\n      date_released  \n0        2018-08-10  \n1        2018-11-23  \n2        2018-12-14  \n3        2018-12-14  \n4        2018-12-14  \n...             ...  \n10811    2018-10-31  \n10812    2018-10-31  \n10813    2018-11-23  \n10814    2018-11-23  \n10815    2018-11-23  \n\n[10814 rows x 3 columns]",
      "text/html": "<div>\n<style scoped>\n    .dataframe tbody tr th:only-of-type {\n        vertical-align: middle;\n    }\n\n    .dataframe tbody tr th {\n        vertical-align: top;\n    }\n\n    .dataframe thead th {\n        text-align: right;\n    }\n</style>\n<table border=\"1\" class=\"dataframe\">\n  <thead>\n    <tr style=\"text-align: right;\">\n      <th></th>\n      <th>title_en</th>\n      <th>description_en</th>\n      <th>date_released</th>\n    </tr>\n  </thead>\n  <tbody>\n    <tr>\n      <th>0</th>\n      <td>The AAFC Productivity Account for Canadian Agriculture</td>\n      <td>The AAFC Productivity Account for Canadian agriculture is an annual time-series database, covering the years 1961-2011, that is comprised of price index and constant dollar implicit quantity series for gross output and input aggregates. The data are defined at the national level only – i.e. for the whole of Canada. These data are used to estimate a total factor productivity (TFP) index for Canadian agriculture, which is the ratio of total gross output to total input, where both output and input are constant dollar implicit quantities. Average growth in the TFP index, referred to as TFP growth, can be estimated using a variety of methods; the growth rate reported in AAFC publications is estimated using OLS.\\n\\nFurther documentation provided in AAFC_PACA.odt</td>\n      <td>2018-08-10</td>\n    </tr>\n    <tr>\n      <th>1</th>\n      <td>Swift Current Water Chemistry - Long Term Tillage Study - 1962-2011</td>\n      <td>The Swift current water quantity and quality is an annual time-series database covering the period of 1962-2011. This database contains datasets for annual runoff volume, peak flow rates, water quality attributes, snow water equivalent and soil moisture from an edge of field study conducted at Swift Current, SK.</td>\n      <td>2018-11-23</td>\n    </tr>\n    <tr>\n      <th>2</th>\n      <td>Minor Use Pesticides Program Project Status by Crop</td>\n      <td>The Pest Management Centre’s (PMC) Minor Use Pesticides Program is a joint initiative between Agriculture and Agri-Food Canada and Health Canada’s Pest Management Regulatory Agency (PMRA) to improve the availability of reduced-risk products to agricultural producers and improve the access to a broad range of minor use pesticides. The PMC reviews the data resulting from field trials and laboratory analyses, and prepares a submission to PMRA to support the registration of the minor use pesticide. Upon receiving a finalized regulatory submission from PMC, PMRA reviews it and decides whether or not to accept the pesticide for use in Canada.\\n\\nThis is a complete list of PMC’s projects with their statuses. For those projects with the status D.3.2 Review Complete, please check with the pesti...</td>\n      <td>2018-12-14</td>\n    </tr>\n    <tr>\n      <th>3</th>\n      <td>Minor Use Pesticides Program Submission Status by Fiscal Year</td>\n      <td>The Pest Management Centre Minor Use Pesticides Program is a joint initiative between Agriculture and Agri-Food Canada and Health Canada’s Pest Management Regulatory Agency (PMRA) to improve the availability of reduced-risk products to agricultural producers and improve the access to a broad range of minor use pesticides. The PMC reviews the data resulting from field trials and laboratory analyses, and prepares a submission to PMRA to support the registration of the minor use pesticide. Upon receiving a finalized regulatory submission from PMC, PMRA reviews it and decides whether or not to accept the pesticide for use in Canada.\\n\\nThis list of submissions to PMRA is the result of PMC’s work and is for information purposes only. To find out if the pesticide can be used, please check wi...</td>\n      <td>2018-12-14</td>\n    </tr>\n    <tr>\n      <th>4</th>\n      <td>Minor Use Pesticides Program Trial Statistics by Year by Discipline</td>\n      <td>The following table provides information pertaining to the minor use pesticide study and/or trial status. These studies/trials are managed by the Pest management Center of the AAFC. This table is updated monthly.</td>\n      <td>2018-12-14</td>\n    </tr>\n    <tr>\n      <th>...</th>\n      <td>...</td>\n      <td>...</td>\n      <td>...</td>\n    </tr>\n    <tr>\n      <th>10811</th>\n      <td>Value of business expenditures in research and development (BERD) by firm receiving WD program funding (in $)</td>\n      <td>Business Expenditures in Research and Development (BERD) – expenditures by private firms on research and development. It includes creative work undertaken on a systematic basis in order to increase the stock of knowledge, and the use of this knowledge to devise new applications. R&amp;D covers three activities: basic research, applied research, and experimental development.</td>\n      <td>2018-10-31</td>\n    </tr>\n    <tr>\n      <th>10812</th>\n      <td>Percentage of professional jobs (including science &amp; technology) in western Canada</td>\n      <td>Professional, science and technology-related jobs – Based on an OECD definition of ‘science and technology-related jobs’ that includes occupations beyond those typically associated with science, technology, engineering and mathematics (STEM) or merely the natural sciences. It includes physical, mathematical and engineering science professionals, life science and health professionals, teaching professionals, and other professionals in fields such as business, legal, information, social science, creative, religious, and public service administration.</td>\n      <td>2018-10-31</td>\n    </tr>\n    <tr>\n      <th>10813</th>\n      <td>Value of international business activity facilitated by WD</td>\n      <td>The sum of the dollar value of international sales, foreign investment, international research agreements and economic impact from international visitors.</td>\n      <td>2018-11-23</td>\n    </tr>\n    <tr>\n      <th>10814</th>\n      <td>Number of communities benefitting from Community Economic Growth projects</td>\n      <td>\"Communities benefitting\" include all distinct communities receiving benefit from a community-based project under one of the following three sub-programs:  Community Development, Community Futures Program, or Targeted Economic Initiatives.  Note: If a community benefits from two different projects, that community will be counted twice.</td>\n      <td>2018-11-23</td>\n    </tr>\n    <tr>\n      <th>10815</th>\n      <td>Number of communities benefitting from federal public infrastructure investments</td>\n      <td>\"Communities benefitting\" include all distinct communities receiving benefit from a new or improved infrastructure system, network, or facility.  Note: If a community benefits from two different projects, that community will be counted twice.</td>\n      <td>2018-11-23</td>\n    </tr>\n  </tbody>\n</table>\n<p>10814 rows × 3 columns</p>\n</div>"
     },
     "execution_count": 7,
     "metadata": {},
     "output_type": "execute_result"
    }
   ],
   "source": [
    "columns = ['title_en', 'description_en', 'date_released']\n",
    "catalog = pd.read_csv(r'.\\data\\canada-open-data\\inventory.csv', usecols=columns)\n",
    "catalog.dropna(subset=['description_en'], inplace=True)\n",
    "catalog"
   ],
   "metadata": {
    "collapsed": false
   }
  },
  {
   "cell_type": "code",
   "execution_count": 11,
   "outputs": [],
   "source": [
    "def text_to_tokens(text):\n",
    "    text = text.lower()\n",
    "    text = remove_stopwords(text)\n",
    "    tokens = simple_preprocess(text)\n",
    "    return tokens"
   ],
   "metadata": {
    "collapsed": false
   }
  },
  {
   "cell_type": "code",
   "execution_count": 12,
   "outputs": [
    {
     "data": {
      "text/plain": "0                                                                                                                                [aafc, productivity, account, canadian, agriculture, annual, time, series, database, covering, years, comprised, price, index, constant, dollar, implicit, quantity, series, gross, output, input, aggregates, data, defined, national, level, canada, data, estimate, total, factor, productivity, tfp, index, canadian, agriculture, ratio, total, gross, output, total, input, output, input, constant, dollar, implicit, quantities, average, growth, tfp, index, referred, tfp, growth, estimated, variety, methods, growth, rate, reported, aafc, publications, estimated, ols, documentation, provided, aafc_paca, odt]\n1                                                                                                                                                                                                                                                                                                                                                                                                                                                                 [swift, current, water, quantity, quality, annual, time, series, database, covering, period, database, contains, datasets, annual, runoff, volume, peak, flow, rates, water, quality, attributes, snow, water, equivalent, soil, moisture, edge, field, study, conducted, swift, current, sk]\n2        [pest, management, centre, pmc, minor, use, pesticides, program, joint, initiative, agriculture, agri, food, canada, health, canada, pest, management, regulatory, agency, pmra, improve, availability, reduced, risk, products, agricultural, producers, improve, access, broad, range, minor, use, pesticides, pmc, reviews, data, resulting, field, trials, laboratory, analyses, prepares, submission, pmra, support, registration, minor, use, pesticide, receiving, finalized, regulatory, submission, pmc, pmra, reviews, decides, accept, pesticide, use, canada, complete, list, pmc, projects, statuses, projects, status, review, complete, check, pesticide, manufacturer, visit, pmra, pesticide, label, database, pesticide, ready, use]\n3                       [pest, management, centre, minor, use, pesticides, program, joint, initiative, agriculture, agri, food, canada, health, canada, pest, management, regulatory, agency, pmra, improve, availability, reduced, risk, products, agricultural, producers, improve, access, broad, range, minor, use, pesticides, pmc, reviews, data, resulting, field, trials, laboratory, analyses, prepares, submission, pmra, support, registration, minor, use, pesticide, receiving, finalized, regulatory, submission, pmc, pmra, reviews, decides, accept, pesticide, use, canada, list, submissions, pmra, result, pmc, work, information, purposes, only, pesticide, used, check, pesticide, manufacturer, visit, pmra, pesticide, label, database]\n4                                                                                                                                                                                                                                                                                                                                                                                                                                                                                                                                                                [following, table, provides, information, pertaining, minor, use, pesticide, study, and, or, trial, status, studies, trials, managed, pest, management, center, aafc, table, updated, monthly]\n                                                                                                                                                                                                                                                                                                                                                                                  ...                                                                                                                                                                                                                                                                                                                                                                          \n10811                                                                                                                                                                                                                                                                                                                                                                                                                      [business, expenditures, research, development, berd, expenditures, private, firms, research, development, includes, creative, work, undertaken, systematic, basis, order, increase, stock, knowledge, use, knowledge, devise, new, applications, covers, activities, basic, research, applied, research, experimental, development]\n10812                                                                                                                                                                                                                                           [professional, science, technology, related, jobs, based, oecd, definition, science, technology, related, jobs, includes, occupations, typically, associated, science, technology, engineering, mathematics, stem, merely, natural, sciences, includes, physical, mathematical, engineering, science, professionals, life, science, health, professionals, teaching, professionals, professionals, fields, business, legal, information, social, science, creative, religious, public, service, administration]\n10813                                                                                                                                                                                                                                                                                                                                                                                                                                                                                                                                                                                                           [sum, dollar, value, international, sales, foreign, investment, international, research, agreements, economic, impact, international, visitors]\n10814                                                                                                                                                                                                                                                                                                                                                                                                                                                      [communities, benefitting, include, distinct, communities, receiving, benefit, community, based, project, following, sub, programs, community, development, community, futures, program, targeted, economic, initiatives, note, community, benefits, different, projects, community, counted, twice]\n10815                                                                                                                                                                                                                                                                                                                                                                                                                                                                                                                                       [communities, benefitting, include, distinct, communities, receiving, benefit, new, improved, infrastructure, system, network, facility, note, community, benefits, different, projects, community, counted, twice]\nName: description_en, Length: 10814, dtype: object"
     },
     "execution_count": 12,
     "metadata": {},
     "output_type": "execute_result"
    }
   ],
   "source": [
    "from gensim.parsing.preprocessing import remove_stopwords\n",
    "from gensim.utils import simple_preprocess\n",
    "dataset_descriptions = catalog.description_en.apply(text_to_tokens)\n",
    "dataset_descriptions"
   ],
   "metadata": {
    "collapsed": false
   }
  },
  {
   "cell_type": "code",
   "execution_count": 13,
   "outputs": [],
   "source": [
    "import gensim\n",
    "from gensim.models import LdaModel\n",
    "from gensim.parsing.preprocessing import preprocess_string\n",
    "\n",
    "dictionary = gensim.corpora.Dictionary(dataset_descriptions)\n",
    "corpus = [dictionary.doc2bow(text) for text in dataset_descriptions]"
   ],
   "metadata": {
    "collapsed": false
   }
  },
  {
   "cell_type": "code",
   "execution_count": 14,
   "outputs": [
    {
     "name": "stdout",
     "output_type": "stream",
     "text": [
      "0 aafc\n",
      "1 aafc_paca\n",
      "2 account\n",
      "3 aggregates\n",
      "4 agriculture\n",
      "5 annual\n",
      "6 average\n",
      "7 canada\n",
      "8 canadian\n",
      "9 comprised\n",
      "10 constant\n",
      "11 covering\n",
      "12 data\n",
      "13 database\n",
      "14 defined\n",
      "15 documentation\n",
      "16 dollar\n",
      "17 estimate\n",
      "18 estimated\n",
      "19 factor\n"
     ]
    }
   ],
   "source": [
    "for i in range(0, 20):\n",
    "    print(i, dictionary[i])"
   ],
   "metadata": {
    "collapsed": false
   }
  },
  {
   "cell_type": "code",
   "execution_count": 15,
   "outputs": [
    {
     "data": {
      "text/plain": "50"
     },
     "execution_count": 15,
     "metadata": {},
     "output_type": "execute_result"
    }
   ],
   "source": [
    "VECTOR_SIZE = 50\n",
    "lda_model:LdaModel = LdaModel(corpus,\n",
    "                              num_topics=VECTOR_SIZE,\n",
    "                              passes=4)\n",
    "\n",
    "lda_model.num_topics"
   ],
   "metadata": {
    "collapsed": false
   }
  },
  {
   "cell_type": "code",
   "execution_count": 16,
   "outputs": [
    {
     "data": {
      "text/plain": "       Relevance\nTopic           \n0       0.033595\n2       0.017586\n3       0.095969\n7       0.180248\n12      0.017861\n14      0.044946\n15      0.019487\n19      0.050257\n32      0.059672\n34      0.035382\n35      0.077301\n42      0.267045\n47      0.028510\n49      0.061701",
      "text/html": "<div>\n<style scoped>\n    .dataframe tbody tr th:only-of-type {\n        vertical-align: middle;\n    }\n\n    .dataframe tbody tr th {\n        vertical-align: top;\n    }\n\n    .dataframe thead th {\n        text-align: right;\n    }\n</style>\n<table border=\"1\" class=\"dataframe\">\n  <thead>\n    <tr style=\"text-align: right;\">\n      <th></th>\n      <th>Relevance</th>\n    </tr>\n    <tr>\n      <th>Topic</th>\n      <th></th>\n    </tr>\n  </thead>\n  <tbody>\n    <tr>\n      <th>0</th>\n      <td>0.033595</td>\n    </tr>\n    <tr>\n      <th>2</th>\n      <td>0.017586</td>\n    </tr>\n    <tr>\n      <th>3</th>\n      <td>0.095969</td>\n    </tr>\n    <tr>\n      <th>7</th>\n      <td>0.180248</td>\n    </tr>\n    <tr>\n      <th>12</th>\n      <td>0.017861</td>\n    </tr>\n    <tr>\n      <th>14</th>\n      <td>0.044946</td>\n    </tr>\n    <tr>\n      <th>15</th>\n      <td>0.019487</td>\n    </tr>\n    <tr>\n      <th>19</th>\n      <td>0.050257</td>\n    </tr>\n    <tr>\n      <th>32</th>\n      <td>0.059672</td>\n    </tr>\n    <tr>\n      <th>34</th>\n      <td>0.035382</td>\n    </tr>\n    <tr>\n      <th>35</th>\n      <td>0.077301</td>\n    </tr>\n    <tr>\n      <th>42</th>\n      <td>0.267045</td>\n    </tr>\n    <tr>\n      <th>47</th>\n      <td>0.028510</td>\n    </tr>\n    <tr>\n      <th>49</th>\n      <td>0.061701</td>\n    </tr>\n  </tbody>\n</table>\n</div>"
     },
     "execution_count": 16,
     "metadata": {},
     "output_type": "execute_result"
    }
   ],
   "source": [
    "text = catalog.description_en[0]\n",
    "tokens = text_to_tokens(text)\n",
    "bag_of_words = dictionary.doc2bow(tokens)\n",
    "pd.DataFrame(lda_model[bag_of_words],\n",
    "             columns=['Topic', 'Relevance']).set_index('Topic')"
   ],
   "metadata": {
    "collapsed": false
   }
  },
  {
   "cell_type": "code",
   "execution_count": 17,
   "outputs": [],
   "source": [
    "def topic_vector(topic_model:LdaModel, text:str):\n",
    "    processed_text = text_to_tokens(text)\n",
    "    bag_of_words = dictionary.doc2bow(processed_text)\n",
    "    fingerprint = [0] * topic_model.num_topics\n",
    "    for topic, prob in topic_model[bag_of_words]:\n",
    "        fingerprint[topic] = prob\n",
    "    return fingerprint"
   ],
   "metadata": {
    "collapsed": false
   }
  },
  {
   "cell_type": "code",
   "execution_count": 29,
   "outputs": [],
   "source": [
    "import matplotlib.pyplot as plt\n",
    "import matplotlib.style as style\n",
    "from IPython.display import display\n",
    "\n",
    "style.use('fivethirtyeight')\n",
    "\n",
    "VECTOR_SIZE = 50\n",
    "\n",
    "def show_fingerprint(topic_model, text):\n",
    "    display(text)\n",
    "    vector = topic_vector(topic_model, text)\n",
    "    plt.figure(figsize=(14,2))\n",
    "    ax = plt.bar(range(len(vector)),\n",
    "                 vector,\n",
    "                 0.25,\n",
    "                 linewidth=1)\n",
    "    plt.ylim(top=0.5)\n",
    "    plt.tick_params(axis='both',\n",
    "                    left=False,\n",
    "                    top=False,\n",
    "                    labelleft=False)\n",
    "    plt.grid(False)"
   ],
   "metadata": {
    "collapsed": false
   }
  },
  {
   "cell_type": "code",
   "execution_count": 30,
   "outputs": [
    {
     "data": {
      "text/plain": "'The AAFC Productivity Account for Canadian agriculture is an annual time-series database, covering the years 1961-2011, that is comprised of price index and constant dollar implicit quantity series for gross output and input aggregates. The data are defined at the national level only – i.e. for the whole of Canada. These data are used to estimate a total factor productivity (TFP) index for Canadian agriculture, which is the ratio of total gross output to total input, where both output and input are constant dollar implicit quantities. Average growth in the TFP index, referred to as TFP growth, can be estimated using a variety of methods; the growth rate reported in AAFC publications is estimated using OLS.\\n\\nFurther documentation provided in AAFC_PACA.odt'"
     },
     "metadata": {},
     "output_type": "display_data"
    },
    {
     "data": {
      "text/plain": "<Figure size 1400x200 with 1 Axes>",
      "image/png": "[encoded data removed]"
     },
     "metadata": {},
     "output_type": "display_data"
    }
   ],
   "source": [
    "show_fingerprint(lda_model, catalog.description_en[0])"
   ],
   "metadata": {
    "collapsed": false
   }
  },
  {
   "cell_type": "code",
   "execution_count": 31,
   "outputs": [
    {
     "data": {
      "text/plain": "\"The Pest Management Centre’s (PMC) Minor Use Pesticides Program is a joint initiative between Agriculture and Agri-Food Canada and Health Canada’s Pest Management Regulatory Agency (PMRA) to improve the availability of reduced-risk products to agricultural producers and improve the access to a broad range of minor use pesticides. The PMC reviews the data resulting from field trials and laboratory analyses, and prepares a submission to PMRA to support the registration of the minor use pesticide. Upon receiving a finalized regulatory submission from PMC, PMRA reviews it and decides whether or not to accept the pesticide for use in Canada.\\n\\nThis is a complete list of PMC’s projects with their statuses. For those projects with the status D.3.2 Review Complete, please check with the pesticide manufacturer or visit PMRA's pesticide label database to find out if the pesticide is ready for use. \""
     },
     "metadata": {},
     "output_type": "display_data"
    },
    {
     "data": {
      "text/plain": "<Figure size 1400x200 with 1 Axes>",
      "image/png": "[encoded data removed]"
     },
     "metadata": {},
     "output_type": "display_data"
    }
   ],
   "source": [
    "show_fingerprint(lda_model, catalog.description_en[2])"
   ],
   "metadata": {
    "collapsed": false
   }
  },
  {
   "cell_type": "code",
   "execution_count": null,
   "outputs": [],
   "source": [],
   "metadata": {
    "collapsed": false
   }
  }
 ],
 "metadata": {
  "kernelspec": {
   "display_name": "Python 3",
   "language": "python",
   "name": "python3"
  },
  "language_info": {
   "codemirror_mode": {
    "name": "ipython",
    "version": 2
   },
   "file_extension": ".py",
   "mimetype": "text/x-python",
   "name": "python",
   "nbconvert_exporter": "python",
   "pygments_lexer": "ipython2",
   "version": "2.7.6"
  }
 },
 "nbformat": 4,
 "nbformat_minor": 0
}
