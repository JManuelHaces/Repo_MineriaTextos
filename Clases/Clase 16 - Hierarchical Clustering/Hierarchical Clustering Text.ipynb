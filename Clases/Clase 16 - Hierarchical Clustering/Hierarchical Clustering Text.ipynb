{
 "cells": [
  {
   "cell_type": "markdown",
   "id": "2b012024",
   "metadata": {},
   "source": [
    "# Hierarchical Clustering Text\n",
    "\n",
    "- Vamos a utilizar el dataset \"The 30 newsgroups text datset\""
   ]
  },
  {
   "cell_type": "code",
   "execution_count": 1,
   "id": "cdbd7c6b",
   "metadata": {},
   "outputs": [],
   "source": [
    "# Librerías\n",
    "\n",
    "from sklearn.datasets import fetch_20newsgroups\n",
    "from scipy.cluster.hierarchy import ward, dendrogram\n",
    "import matplotlib as mpl\n",
    "from scipy.cluster.hierarchy import fcluster\n",
    "from sklearn.metrics.pairwise import cosine_similarity\n",
    "import pandas as pd\n",
    "import numpy as np\n",
    "import matplotlib.pyplot as plt\n",
    "import re\n",
    "import string\n",
    "from nltk.corpus import stopwords\n",
    "from nltk import word_tokenize\n",
    "from nltk.stem import WordNetLemmatizer\n",
    "from sklearn.feature_extraction.text import TfidfVectorizer\n",
    "from collections import Counter\n",
    "from pylab import *\n",
    "import nltk\n",
    "import warnings\n",
    "\n",
    "%matplotlib inline\n",
    "warnings.filterwarnings('ignore')"
   ]
  },
  {
   "cell_type": "code",
   "execution_count": 2,
   "id": "496362f6",
   "metadata": {},
   "outputs": [
    {
     "name": "stderr",
     "output_type": "stream",
     "text": [
      "[nltk_data] Downloading package stopwords to C:\\Users\\JManuel\\anaconda\n",
      "[nltk_data]     3\\envs\\ITESO_Anaconda\\lib\\nltk_data...\n",
      "[nltk_data]   Package stopwords is already up-to-date!\n"
     ]
    },
    {
     "data": {
      "text/plain": "True"
     },
     "execution_count": 2,
     "metadata": {},
     "output_type": "execute_result"
    }
   ],
   "source": [
    "nltk.download('stopwords')"
   ]
  },
  {
   "cell_type": "code",
   "execution_count": 3,
   "id": "6244e899",
   "metadata": {},
   "outputs": [],
   "source": [
    "stop_words = stopwords.words('english')\n",
    "\n",
    "# Vamos a utilizar la librería string\n",
    "stop_words = stop_words + list(string.printable)"
   ]
  },
  {
   "cell_type": "code",
   "execution_count": 4,
   "id": "9a02bc79",
   "metadata": {},
   "outputs": [
    {
     "name": "stderr",
     "output_type": "stream",
     "text": [
      "[nltk_data] Downloading package wordnet to C:\\Users\\JManuel\\anaconda3\\\n",
      "[nltk_data]     envs\\ITESO_Anaconda\\lib\\nltk_data...\n",
      "[nltk_data]   Package wordnet is already up-to-date!\n"
     ]
    },
    {
     "data": {
      "text/plain": "True"
     },
     "execution_count": 4,
     "metadata": {},
     "output_type": "execute_result"
    }
   ],
   "source": [
    "nltk.download('wordnet')"
   ]
  },
  {
   "cell_type": "code",
   "execution_count": 5,
   "outputs": [],
   "source": [
    "lemmatizer = WordNetLemmatizer()"
   ],
   "metadata": {
    "collapsed": false
   }
  },
  {
   "cell_type": "code",
   "execution_count": 7,
   "outputs": [],
   "source": [
    "categories = ['misc.forsale', 'sci.electronics', 'talk.religion.misc']\n",
    "\n",
    "# Usando esas categorías vamos a construir nuestro dataset\n",
    "news_data = fetch_20newsgroups(subset='train', # Seleccionamos el conjunto de textos a utilizar\n",
    "                               categories = categories, # Usando la lista definifa para cargar un subconjunto de textos\n",
    "                               shuffle=True, # Mezcla aleatoriamente los textos de cada categoría\n",
    "                               random_state=42, # Parámetro para que sea reproducible\n",
    "                               download_if_missing=True) # Descarga en caso de que no exista"
   ],
   "metadata": {
    "collapsed": false
   }
  },
  {
   "cell_type": "code",
   "execution_count": 8,
   "outputs": [
    {
     "data": {
      "text/plain": "array([0, 0, 1, ..., 0, 1, 0], dtype=int64)"
     },
     "execution_count": 8,
     "metadata": {},
     "output_type": "execute_result"
    }
   ],
   "source": [
    "# Verificamos que cada texto esté señalado con la categoría a la que pertenece\n",
    "news_data.target"
   ],
   "metadata": {
    "collapsed": false
   }
  },
  {
   "cell_type": "code",
   "execution_count": 9,
   "outputs": [
    {
     "data": {
      "text/plain": "Counter({0: 585, 1: 591, 2: 377})"
     },
     "execution_count": 9,
     "metadata": {},
     "output_type": "execute_result"
    }
   ],
   "source": [
    "Counter(news_data.target)"
   ],
   "metadata": {
    "collapsed": false
   }
  },
  {
   "cell_type": "code",
   "execution_count": 10,
   "outputs": [
    {
     "data": {
      "text/plain": "['misc.forsale', 'sci.electronics', 'talk.religion.misc']"
     },
     "execution_count": 10,
     "metadata": {},
     "output_type": "execute_result"
    }
   ],
   "source": [
    "news_data.target_names"
   ],
   "metadata": {
    "collapsed": false
   }
  },
  {
   "cell_type": "code",
   "execution_count": 11,
   "outputs": [
    {
     "data": {
      "text/plain": "                                                   text  category\n0     From: Steve@Busop.cit.wayne.edu (Steve Teolis)...         0\n1     From: jks2x@holmes.acc.Virginia.EDU (Jason K. ...         0\n2     From: wayne@uva386.schools.virginia.edu (Tony ...         1\n3     From: lihan@ccwf.cc.utexas.edu (Bruce G. Bostw...         1\n4     From: myoakam@cis.ohio-state.edu (micah r yoak...         0\n...                                                 ...       ...\n1548  From: psyrobtw@ubvmsb.cc.buffalo.edu (Robert W...         2\n1549  From: brian@lpl.arizona.edu (Brian Ceccarelli ...         2\n1550  From: bmaraldo@watserv1.uwaterloo.ca (Commande...         0\n1551  From: wtm@uhura.neoucom.edu (Bill Mayhew)\\nSub...         1\n1552  From: news@magnus.acs.ohio-state.edu\\nSubject:...         0\n\n[1553 rows x 2 columns]",
      "text/html": "<div>\n<style scoped>\n    .dataframe tbody tr th:only-of-type {\n        vertical-align: middle;\n    }\n\n    .dataframe tbody tr th {\n        vertical-align: top;\n    }\n\n    .dataframe thead th {\n        text-align: right;\n    }\n</style>\n<table border=\"1\" class=\"dataframe\">\n  <thead>\n    <tr style=\"text-align: right;\">\n      <th></th>\n      <th>text</th>\n      <th>category</th>\n    </tr>\n  </thead>\n  <tbody>\n    <tr>\n      <th>0</th>\n      <td>From: Steve@Busop.cit.wayne.edu (Steve Teolis)...</td>\n      <td>0</td>\n    </tr>\n    <tr>\n      <th>1</th>\n      <td>From: jks2x@holmes.acc.Virginia.EDU (Jason K. ...</td>\n      <td>0</td>\n    </tr>\n    <tr>\n      <th>2</th>\n      <td>From: wayne@uva386.schools.virginia.edu (Tony ...</td>\n      <td>1</td>\n    </tr>\n    <tr>\n      <th>3</th>\n      <td>From: lihan@ccwf.cc.utexas.edu (Bruce G. Bostw...</td>\n      <td>1</td>\n    </tr>\n    <tr>\n      <th>4</th>\n      <td>From: myoakam@cis.ohio-state.edu (micah r yoak...</td>\n      <td>0</td>\n    </tr>\n    <tr>\n      <th>...</th>\n      <td>...</td>\n      <td>...</td>\n    </tr>\n    <tr>\n      <th>1548</th>\n      <td>From: psyrobtw@ubvmsb.cc.buffalo.edu (Robert W...</td>\n      <td>2</td>\n    </tr>\n    <tr>\n      <th>1549</th>\n      <td>From: brian@lpl.arizona.edu (Brian Ceccarelli ...</td>\n      <td>2</td>\n    </tr>\n    <tr>\n      <th>1550</th>\n      <td>From: bmaraldo@watserv1.uwaterloo.ca (Commande...</td>\n      <td>0</td>\n    </tr>\n    <tr>\n      <th>1551</th>\n      <td>From: wtm@uhura.neoucom.edu (Bill Mayhew)\\nSub...</td>\n      <td>1</td>\n    </tr>\n    <tr>\n      <th>1552</th>\n      <td>From: news@magnus.acs.ohio-state.edu\\nSubject:...</td>\n      <td>0</td>\n    </tr>\n  </tbody>\n</table>\n<p>1553 rows × 2 columns</p>\n</div>"
     },
     "execution_count": 11,
     "metadata": {},
     "output_type": "execute_result"
    }
   ],
   "source": [
    "# COnvertimos nuestros dataset a un DataFrame para que la manipulación sea más sencilla\n",
    "news_data_df = pd.DataFrame({'text': news_data['data'], 'category': news_data.target})\n",
    "news_data_df"
   ],
   "metadata": {
    "collapsed": false
   }
  },
  {
   "cell_type": "code",
   "execution_count": 13,
   "outputs": [
    {
     "data": {
      "text/plain": "1    591\n0    585\n2    377\nName: category, dtype: int64"
     },
     "execution_count": 13,
     "metadata": {},
     "output_type": "execute_result"
    }
   ],
   "source": [
    "# Verificamos que se mantienen los datos por categoría\n",
    "news_data_df['category'].value_counts()"
   ],
   "metadata": {
    "collapsed": false
   }
  },
  {
   "cell_type": "code",
   "execution_count": 15,
   "outputs": [
    {
     "data": {
      "text/plain": "                                                   text  category  \\\n0     From: Steve@Busop.cit.wayne.edu (Steve Teolis)...         0   \n1     From: jks2x@holmes.acc.Virginia.EDU (Jason K. ...         0   \n2     From: wayne@uva386.schools.virginia.edu (Tony ...         1   \n3     From: lihan@ccwf.cc.utexas.edu (Bruce G. Bostw...         1   \n4     From: myoakam@cis.ohio-state.edu (micah r yoak...         0   \n...                                                 ...       ...   \n1548  From: psyrobtw@ubvmsb.cc.buffalo.edu (Robert W...         2   \n1549  From: brian@lpl.arizona.edu (Brian Ceccarelli ...         2   \n1550  From: bmaraldo@watserv1.uwaterloo.ca (Commande...         0   \n1551  From: wtm@uhura.neoucom.edu (Bill Mayhew)\\nSub...         1   \n1552  From: news@magnus.acs.ohio-state.edu\\nSubject:...         0   \n\n                                             clean_text  \n0     steve busop.cit.wayne.edu steve teolis subject...  \n1     jks2x holmes.acc.virginia.edu jason k. schechn...  \n2     wayne uva386.schools.virginia.edu tony wayne s...  \n3     lihan ccwf.cc.utexas.edu bruce g. bostwick sub...  \n4     myoakam cis.ohio-state.edu micah yoakam subjec...  \n...                                                 ...  \n1548  psyrobtw ubvmsb.cc.buffalo.edu robert wei subj...  \n1549  brian lpl.arizona.edu brian ceccarelli 602/621...  \n1550  bmaraldo watserv1.uwaterloo.ca commander brett...  \n1551  wtm uhura.neoucom.edu bill mayhew subject adco...  \n1552  news magnus.acs.ohio-state.edu subject '87 bui...  \n\n[1553 rows x 3 columns]",
      "text/html": "<div>\n<style scoped>\n    .dataframe tbody tr th:only-of-type {\n        vertical-align: middle;\n    }\n\n    .dataframe tbody tr th {\n        vertical-align: top;\n    }\n\n    .dataframe thead th {\n        text-align: right;\n    }\n</style>\n<table border=\"1\" class=\"dataframe\">\n  <thead>\n    <tr style=\"text-align: right;\">\n      <th></th>\n      <th>text</th>\n      <th>category</th>\n      <th>clean_text</th>\n    </tr>\n  </thead>\n  <tbody>\n    <tr>\n      <th>0</th>\n      <td>From: Steve@Busop.cit.wayne.edu (Steve Teolis)...</td>\n      <td>0</td>\n      <td>steve busop.cit.wayne.edu steve teolis subject...</td>\n    </tr>\n    <tr>\n      <th>1</th>\n      <td>From: jks2x@holmes.acc.Virginia.EDU (Jason K. ...</td>\n      <td>0</td>\n      <td>jks2x holmes.acc.virginia.edu jason k. schechn...</td>\n    </tr>\n    <tr>\n      <th>2</th>\n      <td>From: wayne@uva386.schools.virginia.edu (Tony ...</td>\n      <td>1</td>\n      <td>wayne uva386.schools.virginia.edu tony wayne s...</td>\n    </tr>\n    <tr>\n      <th>3</th>\n      <td>From: lihan@ccwf.cc.utexas.edu (Bruce G. Bostw...</td>\n      <td>1</td>\n      <td>lihan ccwf.cc.utexas.edu bruce g. bostwick sub...</td>\n    </tr>\n    <tr>\n      <th>4</th>\n      <td>From: myoakam@cis.ohio-state.edu (micah r yoak...</td>\n      <td>0</td>\n      <td>myoakam cis.ohio-state.edu micah yoakam subjec...</td>\n    </tr>\n    <tr>\n      <th>...</th>\n      <td>...</td>\n      <td>...</td>\n      <td>...</td>\n    </tr>\n    <tr>\n      <th>1548</th>\n      <td>From: psyrobtw@ubvmsb.cc.buffalo.edu (Robert W...</td>\n      <td>2</td>\n      <td>psyrobtw ubvmsb.cc.buffalo.edu robert wei subj...</td>\n    </tr>\n    <tr>\n      <th>1549</th>\n      <td>From: brian@lpl.arizona.edu (Brian Ceccarelli ...</td>\n      <td>2</td>\n      <td>brian lpl.arizona.edu brian ceccarelli 602/621...</td>\n    </tr>\n    <tr>\n      <th>1550</th>\n      <td>From: bmaraldo@watserv1.uwaterloo.ca (Commande...</td>\n      <td>0</td>\n      <td>bmaraldo watserv1.uwaterloo.ca commander brett...</td>\n    </tr>\n    <tr>\n      <th>1551</th>\n      <td>From: wtm@uhura.neoucom.edu (Bill Mayhew)\\nSub...</td>\n      <td>1</td>\n      <td>wtm uhura.neoucom.edu bill mayhew subject adco...</td>\n    </tr>\n    <tr>\n      <th>1552</th>\n      <td>From: news@magnus.acs.ohio-state.edu\\nSubject:...</td>\n      <td>0</td>\n      <td>news magnus.acs.ohio-state.edu subject '87 bui...</td>\n    </tr>\n  </tbody>\n</table>\n<p>1553 rows × 3 columns</p>\n</div>"
     },
     "execution_count": 15,
     "metadata": {},
     "output_type": "execute_result"
    }
   ],
   "source": [
    "# Vamos a usar lambdas para limpiar el texto\n",
    "news_data_df['clean_text'] = news_data_df['text'].apply(\n",
    "    lambda x: ' '.join([lemmatizer.lemmatize(word.lower())\n",
    "                       for word in word_tokenize(re.sub(r'([^\\s\\w|]_)+', ' ', str(x)))\n",
    "                       if word.lower() not in stop_words])\n",
    ")\n",
    "news_data_df"
   ],
   "metadata": {
    "collapsed": false
   }
  },
  {
   "cell_type": "code",
   "execution_count": 16,
   "outputs": [
    {
     "data": {
      "text/plain": "         00   10       100   12        14        15        16        20  \\\n0  0.435553  0.0  0.000000  0.0  0.000000  0.127745  0.136779  0.127521   \n1  0.000000  0.0  0.000000  0.0  0.000000  0.249879  0.000000  0.000000   \n2  0.000000  0.0  0.000000  0.0  0.000000  0.000000  0.000000  0.000000   \n3  0.000000  0.0  0.000000  0.0  0.000000  0.000000  0.000000  0.000000   \n4  0.000000  0.0  0.215013  0.0  0.199323  0.189186  0.000000  0.000000   \n\n        25   30  ...  well  wire  wiring  without  word      work     world  \\\n0  0.13328  0.0  ...   0.0   0.0     0.0      0.0   0.0  0.113172  0.000000   \n1  0.00000  0.0  ...   0.0   0.0     0.0      0.0   0.0  0.000000  0.000000   \n2  0.00000  0.0  ...   0.0   0.0     0.0      0.0   0.0  0.000000  0.000000   \n3  0.00000  0.0  ...   0.0   0.0     0.0      0.0   0.0  0.000000  0.140439   \n4  0.00000  0.0  ...   0.0   0.0     0.0      0.0   0.0  0.000000  0.000000   \n\n      would    writes  year  \n0  0.000000  0.000000   0.0  \n1  0.000000  0.000000   0.0  \n2  0.000000  0.000000   0.0  \n3  0.102891  0.099018   0.0  \n4  0.000000  0.000000   0.0  \n\n[5 rows x 200 columns]",
      "text/html": "<div>\n<style scoped>\n    .dataframe tbody tr th:only-of-type {\n        vertical-align: middle;\n    }\n\n    .dataframe tbody tr th {\n        vertical-align: top;\n    }\n\n    .dataframe thead th {\n        text-align: right;\n    }\n</style>\n<table border=\"1\" class=\"dataframe\">\n  <thead>\n    <tr style=\"text-align: right;\">\n      <th></th>\n      <th>00</th>\n      <th>10</th>\n      <th>100</th>\n      <th>12</th>\n      <th>14</th>\n      <th>15</th>\n      <th>16</th>\n      <th>20</th>\n      <th>25</th>\n      <th>30</th>\n      <th>...</th>\n      <th>well</th>\n      <th>wire</th>\n      <th>wiring</th>\n      <th>without</th>\n      <th>word</th>\n      <th>work</th>\n      <th>world</th>\n      <th>would</th>\n      <th>writes</th>\n      <th>year</th>\n    </tr>\n  </thead>\n  <tbody>\n    <tr>\n      <th>0</th>\n      <td>0.435553</td>\n      <td>0.0</td>\n      <td>0.000000</td>\n      <td>0.0</td>\n      <td>0.000000</td>\n      <td>0.127745</td>\n      <td>0.136779</td>\n      <td>0.127521</td>\n      <td>0.13328</td>\n      <td>0.0</td>\n      <td>...</td>\n      <td>0.0</td>\n      <td>0.0</td>\n      <td>0.0</td>\n      <td>0.0</td>\n      <td>0.0</td>\n      <td>0.113172</td>\n      <td>0.000000</td>\n      <td>0.000000</td>\n      <td>0.000000</td>\n      <td>0.0</td>\n    </tr>\n    <tr>\n      <th>1</th>\n      <td>0.000000</td>\n      <td>0.0</td>\n      <td>0.000000</td>\n      <td>0.0</td>\n      <td>0.000000</td>\n      <td>0.249879</td>\n      <td>0.000000</td>\n      <td>0.000000</td>\n      <td>0.00000</td>\n      <td>0.0</td>\n      <td>...</td>\n      <td>0.0</td>\n      <td>0.0</td>\n      <td>0.0</td>\n      <td>0.0</td>\n      <td>0.0</td>\n      <td>0.000000</td>\n      <td>0.000000</td>\n      <td>0.000000</td>\n      <td>0.000000</td>\n      <td>0.0</td>\n    </tr>\n    <tr>\n      <th>2</th>\n      <td>0.000000</td>\n      <td>0.0</td>\n      <td>0.000000</td>\n      <td>0.0</td>\n      <td>0.000000</td>\n      <td>0.000000</td>\n      <td>0.000000</td>\n      <td>0.000000</td>\n      <td>0.00000</td>\n      <td>0.0</td>\n      <td>...</td>\n      <td>0.0</td>\n      <td>0.0</td>\n      <td>0.0</td>\n      <td>0.0</td>\n      <td>0.0</td>\n      <td>0.000000</td>\n      <td>0.000000</td>\n      <td>0.000000</td>\n      <td>0.000000</td>\n      <td>0.0</td>\n    </tr>\n    <tr>\n      <th>3</th>\n      <td>0.000000</td>\n      <td>0.0</td>\n      <td>0.000000</td>\n      <td>0.0</td>\n      <td>0.000000</td>\n      <td>0.000000</td>\n      <td>0.000000</td>\n      <td>0.000000</td>\n      <td>0.00000</td>\n      <td>0.0</td>\n      <td>...</td>\n      <td>0.0</td>\n      <td>0.0</td>\n      <td>0.0</td>\n      <td>0.0</td>\n      <td>0.0</td>\n      <td>0.000000</td>\n      <td>0.140439</td>\n      <td>0.102891</td>\n      <td>0.099018</td>\n      <td>0.0</td>\n    </tr>\n    <tr>\n      <th>4</th>\n      <td>0.000000</td>\n      <td>0.0</td>\n      <td>0.215013</td>\n      <td>0.0</td>\n      <td>0.199323</td>\n      <td>0.189186</td>\n      <td>0.000000</td>\n      <td>0.000000</td>\n      <td>0.00000</td>\n      <td>0.0</td>\n      <td>...</td>\n      <td>0.0</td>\n      <td>0.0</td>\n      <td>0.0</td>\n      <td>0.0</td>\n      <td>0.0</td>\n      <td>0.000000</td>\n      <td>0.000000</td>\n      <td>0.000000</td>\n      <td>0.000000</td>\n      <td>0.0</td>\n    </tr>\n  </tbody>\n</table>\n<p>5 rows × 200 columns</p>\n</div>"
     },
     "execution_count": 16,
     "metadata": {},
     "output_type": "execute_result"
    }
   ],
   "source": [
    "# Ya que tenemos el texto limpio vamos a construir la representación en TFIDF\n",
    "# Generamos un modelo que toma solamente las 200 características más importantes\n",
    "\n",
    "tfidf_model = TfidfVectorizer(max_features=200)\n",
    "tfidf_df = pd.DataFrame(tfidf_model.fit_transform(news_data_df['clean_text']).todense())\n",
    "tfidf_df.columns = sorted(tfidf_model.vocabulary_)\n",
    "tfidf_df.head()"
   ],
   "metadata": {
    "collapsed": false
   }
  },
  {
   "cell_type": "markdown",
   "source": [
    "### Método de Ward para Clustering\n",
    "- Comenzamos con 'n' clusters que contienen cada uno un objeto. Los clusters se combinan para formar uno sólo que contenga todos los objetos. En cada paso del proceso, se obtiene un nuevo cluster que minimiza la varianza, medida por un símbolo 'E'\n",
    "\n",
    "- En cada iteración, este índice se calcula así:\n",
    "    - Encontrar la media de cada cluster\n",
    "    - Calcular la distancia entre cada objeto perteneciente al cluster y la media del cluster\n",
    "    - Elevar al cuadrado la distancia del paso anterior\n",
    "    - Sumar todas las distancias del paso anterior\n",
    "    - Sumar las sumas de distancias (las distancias cuadradas de cada cluster)\n",
    "\n",
    "Para que el método funcione se tiene que considerar todas las combinaciones posibles de clusters."
   ],
   "metadata": {
    "collapsed": false
   }
  },
  {
   "cell_type": "code",
   "execution_count": 17,
   "outputs": [
    {
     "data": {
      "text/plain": "array([[1.41000000e+02, 6.77000000e+02, 0.00000000e+00, 2.00000000e+00],\n       [1.98000000e+02, 6.15000000e+02, 0.00000000e+00, 2.00000000e+00],\n       [1.00000000e+01, 4.17000000e+02, 0.00000000e+00, 2.00000000e+00],\n       ...,\n       [3.09800000e+03, 3.10100000e+03, 3.47399011e+01, 9.41000000e+02],\n       [3.10000000e+03, 3.10200000e+03, 4.53435997e+01, 1.13800000e+03],\n       [3.09900000e+03, 3.10300000e+03, 5.69333331e+01, 1.55300000e+03]])"
     },
     "execution_count": 17,
     "metadata": {},
     "output_type": "execute_result"
    }
   ],
   "source": [
    "# Matriz de distancia\n",
    "dist = 1 - cosine_similarity(tfidf_df)\n",
    "linkage_matrix = ward(dist)\n",
    "linkage_matrix"
   ],
   "metadata": {
    "collapsed": false
   }
  },
  {
   "cell_type": "code",
   "execution_count": 18,
   "outputs": [
    {
     "data": {
      "text/plain": "<Figure size 640x480 with 1 Axes>",
      "image/png": "[encoded data removed]"
     },
     "metadata": {},
     "output_type": "display_data"
    }
   ],
   "source": [
    "# Vamos a mostrar solamente 4 clusters\n",
    "plt.title('Hierarchical Clustering using truncated Dendogram')\n",
    "plt.xlabel('Clustered Documents')\n",
    "plt.ylabel('Distance')\n",
    "\n",
    "dendrogram(\n",
    "    linkage_matrix,\n",
    "    truncate_mode='lastp', # Muestra solo los últimos 'p' cluster obtenidos\n",
    "    p=4, # 'p' es el número de clusters que haremos\n",
    "    leaf_rotation=90,\n",
    "    leaf_font_size=12\n",
    ")\n",
    "plt.show()"
   ],
   "metadata": {
    "collapsed": false
   }
  },
  {
   "cell_type": "code",
   "execution_count": 19,
   "outputs": [
    {
     "data": {
      "text/plain": "array([1, 1, 1, ..., 4, 4, 1], dtype=int32)"
     },
     "execution_count": 19,
     "metadata": {},
     "output_type": "execute_result"
    }
   ],
   "source": [
    "# Vamos a usar la función 'fcluster' (flat clustering) para obtener los clusters a partir de la matriz de linkage\n",
    "k = 4\n",
    "clusters = fcluster(linkage_matrix, k , criterion='maxclust')\n",
    "clusters"
   ],
   "metadata": {
    "collapsed": false
   }
  },
  {
   "cell_type": "code",
   "execution_count": 20,
   "outputs": [
    {
     "data": {
      "text/plain": "                                                text  category  \\\n0  From: Steve@Busop.cit.wayne.edu (Steve Teolis)...         0   \n1  From: jks2x@holmes.acc.Virginia.EDU (Jason K. ...         0   \n2  From: wayne@uva386.schools.virginia.edu (Tony ...         1   \n3  From: lihan@ccwf.cc.utexas.edu (Bruce G. Bostw...         1   \n4  From: myoakam@cis.ohio-state.edu (micah r yoak...         0   \n\n                                          clean_text  Clusters  \n0  steve busop.cit.wayne.edu steve teolis subject...         1  \n1  jks2x holmes.acc.virginia.edu jason k. schechn...         1  \n2  wayne uva386.schools.virginia.edu tony wayne s...         1  \n3  lihan ccwf.cc.utexas.edu bruce g. bostwick sub...         1  \n4  myoakam cis.ohio-state.edu micah yoakam subjec...         1  ",
      "text/html": "<div>\n<style scoped>\n    .dataframe tbody tr th:only-of-type {\n        vertical-align: middle;\n    }\n\n    .dataframe tbody tr th {\n        vertical-align: top;\n    }\n\n    .dataframe thead th {\n        text-align: right;\n    }\n</style>\n<table border=\"1\" class=\"dataframe\">\n  <thead>\n    <tr style=\"text-align: right;\">\n      <th></th>\n      <th>text</th>\n      <th>category</th>\n      <th>clean_text</th>\n      <th>Clusters</th>\n    </tr>\n  </thead>\n  <tbody>\n    <tr>\n      <th>0</th>\n      <td>From: Steve@Busop.cit.wayne.edu (Steve Teolis)...</td>\n      <td>0</td>\n      <td>steve busop.cit.wayne.edu steve teolis subject...</td>\n      <td>1</td>\n    </tr>\n    <tr>\n      <th>1</th>\n      <td>From: jks2x@holmes.acc.Virginia.EDU (Jason K. ...</td>\n      <td>0</td>\n      <td>jks2x holmes.acc.virginia.edu jason k. schechn...</td>\n      <td>1</td>\n    </tr>\n    <tr>\n      <th>2</th>\n      <td>From: wayne@uva386.schools.virginia.edu (Tony ...</td>\n      <td>1</td>\n      <td>wayne uva386.schools.virginia.edu tony wayne s...</td>\n      <td>1</td>\n    </tr>\n    <tr>\n      <th>3</th>\n      <td>From: lihan@ccwf.cc.utexas.edu (Bruce G. Bostw...</td>\n      <td>1</td>\n      <td>lihan ccwf.cc.utexas.edu bruce g. bostwick sub...</td>\n      <td>1</td>\n    </tr>\n    <tr>\n      <th>4</th>\n      <td>From: myoakam@cis.ohio-state.edu (micah r yoak...</td>\n      <td>0</td>\n      <td>myoakam cis.ohio-state.edu micah yoakam subjec...</td>\n      <td>1</td>\n    </tr>\n  </tbody>\n</table>\n</div>"
     },
     "execution_count": 20,
     "metadata": {},
     "output_type": "execute_result"
    }
   ],
   "source": [
    "# Agregando el número de clusters al Df\n",
    "news_data_df['Clusters'] = clusters\n",
    "news_data_df.head()"
   ],
   "metadata": {
    "collapsed": false
   }
  },
  {
   "cell_type": "code",
   "execution_count": 22,
   "outputs": [
    {
     "data": {
      "text/plain": "Clusters            cluster_1  cluster_2  cluster_3  cluster_4\ncategory                                                      \nmisc.for.sale             227          1        187        170\nsci.electronics           134          0         30        427\ntalk.religion.misc         54        196         11        116",
      "text/html": "<div>\n<style scoped>\n    .dataframe tbody tr th:only-of-type {\n        vertical-align: middle;\n    }\n\n    .dataframe tbody tr th {\n        vertical-align: top;\n    }\n\n    .dataframe thead th {\n        text-align: right;\n    }\n</style>\n<table border=\"1\" class=\"dataframe\">\n  <thead>\n    <tr style=\"text-align: right;\">\n      <th>Clusters</th>\n      <th>cluster_1</th>\n      <th>cluster_2</th>\n      <th>cluster_3</th>\n      <th>cluster_4</th>\n    </tr>\n    <tr>\n      <th>category</th>\n      <th></th>\n      <th></th>\n      <th></th>\n      <th></th>\n    </tr>\n  </thead>\n  <tbody>\n    <tr>\n      <th>misc.for.sale</th>\n      <td>227</td>\n      <td>1</td>\n      <td>187</td>\n      <td>170</td>\n    </tr>\n    <tr>\n      <th>sci.electronics</th>\n      <td>134</td>\n      <td>0</td>\n      <td>30</td>\n      <td>427</td>\n    </tr>\n    <tr>\n      <th>talk.religion.misc</th>\n      <td>54</td>\n      <td>196</td>\n      <td>11</td>\n      <td>116</td>\n    </tr>\n  </tbody>\n</table>\n</div>"
     },
     "execution_count": 22,
     "metadata": {},
     "output_type": "execute_result"
    }
   ],
   "source": [
    "# Validamos contra las categorías\n",
    "pd.crosstab(news_data_df['category'].replace({0:'misc.for.sale', 1:'sci.electronics', 2:'talk.religion.misc'}),\n",
    "            news_data_df['Clusters'].replace({1:'cluster_1', 2:'cluster_2', 3:'cluster_3', 4:'cluster_4'}))"
   ],
   "metadata": {
    "collapsed": false
   }
  },
  {
   "cell_type": "code",
   "execution_count": null,
   "outputs": [],
   "source": [],
   "metadata": {
    "collapsed": false
   }
  }
 ],
 "metadata": {
  "kernelspec": {
   "display_name": "Python 3 (ipykernel)",
   "language": "python",
   "name": "python3"
  },
  "language_info": {
   "codemirror_mode": {
    "name": "ipython",
    "version": 3
   },
   "file_extension": ".py",
   "mimetype": "text/x-python",
   "name": "python",
   "nbconvert_exporter": "python",
   "pygments_lexer": "ipython3",
   "version": "3.10.4"
  }
 },
 "nbformat": 4,
 "nbformat_minor": 5
}
