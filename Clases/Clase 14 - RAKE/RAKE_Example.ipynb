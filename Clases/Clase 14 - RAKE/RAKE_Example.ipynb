{
 "cells": [
  {
   "cell_type": "code",
   "execution_count": 1,
   "id": "360fce43",
   "metadata": {},
   "outputs": [],
   "source": [
    "import re\n",
    "import nltk\n",
    "from rake_nltk import Rake"
   ]
  },
  {
   "cell_type": "code",
   "execution_count": 2,
   "id": "61f7143a",
   "metadata": {},
   "outputs": [],
   "source": [
    "r = Rake(include_repeated_phrases=False) #Ignorando las palabras repetidas"
   ]
  },
  {
   "cell_type": "code",
   "execution_count": 3,
   "id": "f7b6cc0f",
   "metadata": {},
   "outputs": [
    {
     "data": {
      "text/plain": [
       "'Feauture extraction is not that complex. There are many algorithms available that can help you with feauture extraction. Rapid Automatic Key Word is one of those.'"
      ]
     },
     "execution_count": 3,
     "metadata": {},
     "output_type": "execute_result"
    }
   ],
   "source": [
    "text = 'Feauture extraction is not that complex. There are many algorithms available that can help you with feauture extraction. Rapid Automatic Key Word is one of those.'\n",
    "text"
   ]
  },
  {
   "cell_type": "code",
   "execution_count": 4,
   "id": "878ab701",
   "metadata": {},
   "outputs": [],
   "source": [
    "r.extract_keywords_from_text(text)"
   ]
  },
  {
   "cell_type": "code",
   "execution_count": 5,
   "id": "cc416abc",
   "metadata": {},
   "outputs": [
    {
     "data": {
      "text/plain": [
       "['rapid automatic key word',\n",
       " 'many algorithms available',\n",
       " 'feauture extraction',\n",
       " 'one',\n",
       " 'help',\n",
       " 'complex']"
      ]
     },
     "execution_count": 5,
     "metadata": {},
     "output_type": "execute_result"
    }
   ],
   "source": [
    "r.get_ranked_phrases()"
   ]
  },
  {
   "cell_type": "code",
   "execution_count": null,
   "id": "44229595",
   "metadata": {},
   "outputs": [],
   "source": []
  }
 ],
 "metadata": {
  "kernelspec": {
   "display_name": "Python 3 (ipykernel)",
   "language": "python",
   "name": "python3"
  },
  "language_info": {
   "codemirror_mode": {
    "name": "ipython",
    "version": 3
   },
   "file_extension": ".py",
   "mimetype": "text/x-python",
   "name": "python",
   "nbconvert_exporter": "python",
   "pygments_lexer": "ipython3",
   "version": "3.10.4"
  }
 },
 "nbformat": 4,
 "nbformat_minor": 5
}
