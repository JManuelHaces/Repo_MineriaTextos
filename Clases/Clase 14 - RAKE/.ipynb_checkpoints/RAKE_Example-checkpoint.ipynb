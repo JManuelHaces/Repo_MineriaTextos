{
 "cells": [
  {
   "cell_type": "code",
   "execution_count": 2,
   "id": "a4bc9594",
   "metadata": {},
   "outputs": [],
   "source": [
    "import re\n",
    "import nltk\n",
    "from rake_nltk import Rake"
   ]
  },
  {
   "cell_type": "code",
   "execution_count": 3,
   "id": "1542b8ce",
   "metadata": {},
   "outputs": [],
   "source": [
    "r = Rake(include_repeated_phrases=False) #Ignorando las palabras repetidas"
   ]
  },
  {
   "cell_type": "code",
   "execution_count": 4,
   "id": "3d508a04",
   "metadata": {},
   "outputs": [
    {
     "data": {
      "text/plain": [
       "'Feauture extraction is not that complex. There are many algorithms available that can help you with feauture extraction. Rapid Automatic Key Word is one of those.'"
      ]
     },
     "execution_count": 4,
     "metadata": {},
     "output_type": "execute_result"
    }
   ],
   "source": [
    "text = 'Feauture extraction is not that complex. There are many algorithms available that can help you with feauture extraction. Rapid Automatic Key Word is one of those.'\n",
    "text"
   ]
  },
  {
   "cell_type": "code",
   "execution_count": 5,
   "id": "c0583751",
   "metadata": {},
   "outputs": [],
   "source": [
    "r.extract_keywords_from_text(text)"
   ]
  },
  {
   "cell_type": "code",
   "execution_count": 6,
   "id": "acd4546d",
   "metadata": {},
   "outputs": [
    {
     "data": {
      "text/plain": [
       "['rapid automatic key word',\n",
       " 'many algorithms available',\n",
       " 'feauture extraction',\n",
       " 'one',\n",
       " 'help',\n",
       " 'complex']"
      ]
     },
     "execution_count": 6,
     "metadata": {},
     "output_type": "execute_result"
    }
   ],
   "source": [
    "r.get_ranked_phrases()"
   ]
  },
  {
   "cell_type": "code",
   "execution_count": null,
   "id": "1d966150",
   "metadata": {},
   "outputs": [],
   "source": []
  }
 ],
 "metadata": {
  "kernelspec": {
   "display_name": "Python 3 (ipykernel)",
   "language": "python",
   "name": "python3"
  },
  "language_info": {
   "codemirror_mode": {
    "name": "ipython",
    "version": 3
   },
   "file_extension": ".py",
   "mimetype": "text/x-python",
   "name": "python",
   "nbconvert_exporter": "python",
   "pygments_lexer": "ipython3",
   "version": "3.10.4"
  }
 },
 "nbformat": 4,
 "nbformat_minor": 5
}
